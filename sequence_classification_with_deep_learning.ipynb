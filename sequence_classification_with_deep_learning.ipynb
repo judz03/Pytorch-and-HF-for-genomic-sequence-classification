{
 "cells": [
  {
   "cell_type": "markdown",
   "metadata": {},
   "source": [
    "# Exploring PyTorch and Transformers for Genomic Sequence Classification\n",
    "\n",
    "## Outline:\n",
    "1. Objectives\n",
    "2. What is *deep learning*?\n",
    "3. Some cases of deep learning in genomics\n",
    "4. Deep learning implementation workflow\n",
    "    * Dataset\n",
    "    * Model training with HuggingFace's `transformers`\n",
    "        * Model selection\n",
    "        * Tokenization\n",
    "        * Training\n",
    "        * Evaluation\n",
    "    * Train a PyTorch model with your own data\n",
    "        * Dataset\n",
    "            * The `Dataset` and `DataLoader` objects\n",
    "        * Tokenization\n",
    "        * Model building\n",
    "        * Training\n",
    "        * Evaluation\n",
    "5. Conclusions\n",
    "6. Contact"
   ]
  },
  {
   "cell_type": "markdown",
   "metadata": {},
   "source": [
    "# Objectives\n",
    "\n",
    "1. Learn the basic theory and practice of deep learning\n",
    "2. Understand the basic deep learning workflow\n",
    "3. Deploy a model for genomic sequence classification\n",
    "    * With helpers\n",
    "    * Manually"
   ]
  },
  {
   "cell_type": "markdown",
   "metadata": {},
   "source": [
    "# What is *Deep Learning*?\n",
    "Deep Learning is a subset of machine learning techniques that uses **artificial neural network**-based models (ANN). What makes it **deep** is the presence of many transformation *layers* within the models. Figure 1 shows a Venn diagram of the organization between artificial intelligence, machine and deep learning. \n",
    "Deep learning models are able to learn from raw data. This is one of the main differences against traditional learning pipelines. With these kind of models you can assemble a learning system that tunes itself automatically rather than fixing and updating each individial component one by one. It replaces some of the labor-intensive processes needed for other methods, like field-specific data preprocessing and/or manual feature extraction. Deep learning models can learn and process these features in an automated fashion, generate accurate predictions, and be fine-tuned for specific applications when an available model exist.\n",
    "\n",
    "One of the most common and persistent disadvantages of applying deep learning methods in your work is the large amount of data needed to train the model. To capture the features and generalize the phenomena in your studies, a substantial amount of data (sometimes labeled) must be available so the model can fit them and produce accurate predictions. However, with the ever-increasing availability of graphical processing units (GPUs), the massive amounts of data generated in clinical and biological scenarios, and the possibility of fine-tuning existing models, implementing a deep learning architecture for your specific applications is becoming increasingly simple.\n",
    "\n",
    "<fig>\n",
    "<img    src=\"images/ENG_IA_ML_DL.png\"\n",
    "        width=600\n",
    "        height=600>\n",
    "<figcaption>Fig. 1: Venn diagram displaying the organization between AI, machine, and deep learning.\n",
    "</figure>"
   ]
  },
  {
   "cell_type": "markdown",
   "metadata": {},
   "source": [
    "# Some cases of study of deep learning in genomics\n",
    "\n",
    "- Enformer\n",
    "- HyenaDNA\n",
    "- DeepRVAT\n",
    "- DeepWAS"
   ]
  },
  {
   "cell_type": "markdown",
   "metadata": {},
   "source": [
    "# Deep Learning implementation workflow"
   ]
  },
  {
   "cell_type": "code",
   "execution_count": null,
   "metadata": {},
   "outputs": [],
   "source": [
    "! pip install genomic_benchmarks datasets evaluate --quiet"
   ]
  },
  {
   "cell_type": "code",
   "execution_count": 1,
   "metadata": {},
   "outputs": [],
   "source": [
    "# This cell of code is used to import the necessary libraries for the notebook\n",
    "import torch\n",
    "import torch.nn as nn\n",
    "from torch.utils.data import DataLoader, Dataset\n",
    "import torch.optim as optim\n",
    "\n",
    "import pandas as pd\n",
    "import matplotlib.pyplot as plt\n",
    "import seaborn as sns\n",
    "import numpy as np\n",
    "from sklearn.metrics import roc_auc_score, roc_curve\n",
    "from sklearn.model_selection import train_test_split\n",
    "\n",
    "import gdown\n",
    "\n",
    "from transformers import AutoModelForSequenceClassification, AutoTokenizer, Trainer, TrainingArguments, DataCollatorWithPadding\n",
    "from datasets import load_dataset, Dataset\n",
    "import evaluate\n",
    "from tqdm.auto import tqdm\n",
    "\n",
    "from genomic_benchmarks.data_check import list_datasets, info, is_downloaded\n",
    "from genomic_benchmarks.loc2seq import download_dataset\n",
    "from genomic_benchmarks.dataset_getters.pytorch_datasets import HumanEnhancersCohn"
   ]
  },
  {
   "cell_type": "markdown",
   "metadata": {},
   "source": [
    "## Dataset"
   ]
  },
  {
   "cell_type": "markdown",
   "metadata": {},
   "source": [
    "We will be working with the **Genomic Benchmarks** datasets, a set of benchmarks for classification of genomic sequences to test models' capabilities. All the datasets are described in [[2]](https://doi.org/10.1186/s12863-023-01123-8). Grešová and their collaborators created this python module for easy access to well-labeled and balanced datasets as well as to enable reproducibility for genomic-related deep learning models.\n",
    "\n",
    "In the next code cell we list the available datasets in the **Genomic Benchmarks** module:"
   ]
  },
  {
   "cell_type": "code",
   "execution_count": 2,
   "metadata": {},
   "outputs": [
    {
     "data": {
      "text/plain": [
       "['human_nontata_promoters',\n",
       " 'human_ocr_ensembl',\n",
       " 'human_ensembl_regulatory',\n",
       " 'demo_coding_vs_intergenomic_seqs',\n",
       " 'drosophila_enhancers_stark',\n",
       " 'human_enhancers_ensembl',\n",
       " 'dummy_mouse_enhancers_ensembl',\n",
       " 'human_enhancers_cohn',\n",
       " 'demo_human_or_worm']"
      ]
     },
     "execution_count": 2,
     "metadata": {},
     "output_type": "execute_result"
    }
   ],
   "source": [
    "list_datasets()"
   ]
  },
  {
   "cell_type": "markdown",
   "metadata": {},
   "source": [
    "For illustrative pourpuses you will work on the `human_enhancers_cohn` dataset which contains multiple genomic sequences that **are** or **are not** enhancers. In machine learning verbose, you will work on a **binary classification** problem.\n",
    "### What is an enhancer?\n",
    "\n",
    "An **enhancer** is a genomic regulatory element that influences gene transcription. It can be located quite far from the gene it regulates, sometimes up to 1 million base pairs away. Although enhancers don't produce any direct products, they play a crucial role in regulating gene expression. This is significant because many diseases are caused or associated with deficiencies in specific genes. \n",
    "\n",
    "You may have encountered a similar term, which is **promoter**. The difference between promoters and enhancers is their proximity to the gene they regulate. Promoters are close to the gene they affect. Their functionality are pretty the same, cause the affected gene to over-express and generate more products or proteins than it would normally do.\n",
    "\n",
    "<fig>\n",
    "<img    src=\"images/dna_double_helix.jpg\"\n",
    "        width=600\n",
    "        height=600>\n",
    "<figcaption>Fig. 2: AI-generated representation of a DNA double-helix.\n",
    "</figure>"
   ]
  },
  {
   "cell_type": "markdown",
   "metadata": {},
   "source": [
    "Run the next code cell to show basic information of the dataset that was selected."
   ]
  },
  {
   "cell_type": "code",
   "execution_count": 3,
   "metadata": {},
   "outputs": [
    {
     "name": "stdout",
     "output_type": "stream",
     "text": [
      "Dataset `human_enhancers_cohn` has 2 classes: negative, positive.\n",
      "\n",
      "All lengths of genomic intervals equals 500.\n",
      "\n",
      "Totally 27791 sequences have been found, 20843 for training and 6948 for testing.\n"
     ]
    },
    {
     "data": {
      "text/html": [
       "<div>\n",
       "<style scoped>\n",
       "    .dataframe tbody tr th:only-of-type {\n",
       "        vertical-align: middle;\n",
       "    }\n",
       "\n",
       "    .dataframe tbody tr th {\n",
       "        vertical-align: top;\n",
       "    }\n",
       "\n",
       "    .dataframe thead th {\n",
       "        text-align: right;\n",
       "    }\n",
       "</style>\n",
       "<table border=\"1\" class=\"dataframe\">\n",
       "  <thead>\n",
       "    <tr style=\"text-align: right;\">\n",
       "      <th></th>\n",
       "      <th>train</th>\n",
       "      <th>test</th>\n",
       "    </tr>\n",
       "  </thead>\n",
       "  <tbody>\n",
       "    <tr>\n",
       "      <th>negative</th>\n",
       "      <td>10422</td>\n",
       "      <td>3474</td>\n",
       "    </tr>\n",
       "    <tr>\n",
       "      <th>positive</th>\n",
       "      <td>10421</td>\n",
       "      <td>3474</td>\n",
       "    </tr>\n",
       "  </tbody>\n",
       "</table>\n",
       "</div>"
      ],
      "text/plain": [
       "          train  test\n",
       "negative  10422  3474\n",
       "positive  10421  3474"
      ]
     },
     "execution_count": 3,
     "metadata": {},
     "output_type": "execute_result"
    }
   ],
   "source": [
    "info(\"human_enhancers_cohn\", version=0)"
   ]
  },
  {
   "cell_type": "markdown",
   "metadata": {},
   "source": [
    "The `genomic_benchmarks` module offers multiple data handlers and helpers to load, show and give you an idea of how each of its datasets are composed.\n",
    "In the next code cell we use the `HumanEnhancersCohn` function to download and assign the dataset into two variables, `train_dataset` and `test_dataset`, respectively."
   ]
  },
  {
   "cell_type": "code",
   "execution_count": 4,
   "metadata": {},
   "outputs": [],
   "source": [
    "# Load the dataset and split it into training and test sets\n",
    "train_dataset = HumanEnhancersCohn(split=\"train\", version=0)\n",
    "test_dataset = HumanEnhancersCohn(split=\"test\", version=0)"
   ]
  },
  {
   "cell_type": "markdown",
   "metadata": {},
   "source": [
    "Just to make sure we imported the correct dataset we can print the lengths of each set and check if the numbers match the ones shown above."
   ]
  },
  {
   "cell_type": "code",
   "execution_count": 5,
   "metadata": {},
   "outputs": [
    {
     "name": "stdout",
     "output_type": "stream",
     "text": [
      "Length of the training dataset: 20843. Length of the test dataset: 6948\n"
     ]
    }
   ],
   "source": [
    "# Print the lengths of each set check if they match the info we saw previously\n",
    "print(f\"Length of the training dataset: {len(train_dataset)}. Length of the test dataset: {len(test_dataset)}\") "
   ]
  },
  {
   "cell_type": "markdown",
   "metadata": {},
   "source": [
    "But how this data actually look like? You have only downloaded some data from a library for binary classification up to this point. How can you actually see some samples? Turns out to be very easy to do so! Let's see two examples, one `positive` and one `negative` sample."
   ]
  },
  {
   "cell_type": "code",
   "execution_count": 6,
   "metadata": {},
   "outputs": [
    {
     "name": "stdout",
     "output_type": "stream",
     "text": [
      "('AGCAGCAGGTCAACATTTTTGCACTCACAAAATAATTTGGAAAAACTATATACCTCTTTCACATTTTTTTTTTTTTGAGATGGAGTCTCACTCTGTCGCCCAGGCTGGAGTGCAGTGGTGCAATCTCGGCTCACTGCAAGCTCTGACTCCTGGATTCATGCCATTCGCCTGCCTCAGCCTCCCGAGTAGCTGGGACTATAGGCGCCCGCCACCATGCCTGGCTAATTTTTTGTATTTTTAGTAGAGACGGGGTTTCCCCGTGTTAGCCAGGACGGTCTCTAGCTCCTGACCTTGCGATCCACCTGCCTCGGCCTCCCAAAGTGCTGGGATTACAGGCATGAGCCACTGCACCAGGCCCTCTTTCACATTTTTAAGTTTTCTGTTATCTATTTCAAAAGGTGTAGTTAACATATTTTAAATATTAACAATTCAAAAATAAAACTATTATAGAATTTTTAAACAGTATCCAGATAAATTTTTATTATTAATTTCATACTCAA', 1)\n",
      "('CTGATGAAACCCGGCGAGGTGTGGTCTGCCCTGGAGGACAGCAGCCAGTGTGGGGGGCAGTCCCTTCTCTCTGTCCCAAGGGAGGATACAGCTCCACTGTGGTCACTGGCTCTATGTGAGGGGGTGCATGCATCAGAGACAACAGATGAGAGGGCCCTTCAGTTGGCTTTTCTGCCTCCAGTTCTTTCTGTTCATGAGAGGAAAAGCTACTGGTAGACAGAACAATGTTAAATGTAATAAAAATAAGCAAGTTCCCTGGGTTTATGCAGTGCCAAATGTCAAGATGGTTGTATACAGGAGAAGACGTCCAAGACACGTCTTTTCCGAGTGTCCCAGAGCTCAGAACTCTGTGAGCACTTTGAGCTTCCCCAGACCTCTTTCTTCCCTGGGTGTGAGCCCTGCACAGTGCTCCGAAAAGAGCTGGGGTCCGTAAATACGGATGGCAAACAGCTCACCTGGGTTTCTCACATGGATTTGTTTTCTTGGGGGTCTCTGTATGG', 0)\n"
     ]
    }
   ],
   "source": [
    "# Get a sample from train_dataset with a 1 on the second element of the tuple\n",
    "positive_sample = next(filter(lambda x: x[1] == 1, train_dataset)) # A 1 indicates a positive sample\n",
    "negative_sample = next(filter(lambda x: x[1] == 0, train_dataset)) # A 0 indicates a negative sample\n",
    "print(f\"{positive_sample}\\n{negative_sample}\")"
   ]
  },
  {
   "cell_type": "markdown",
   "metadata": {},
   "source": [
    "Can you tell, without looking at the corresponding labels, which of these sequences is an enhancer and which is not?\n",
    "Well, you can determine this by some other studies like genome-wide chromatin immunoprecipitation or RNA sequencing. But if you saw these sequences alone, would you be able to tell whether it is an enhacer or not? A deep learning model can do it! At the cost of massive amounts of already-labeled data that were obtained with techniques like the previously mentioned (that is, what we just downloaded a couple of cells above)."
   ]
  },
  {
   "cell_type": "markdown",
   "metadata": {},
   "source": [
    "## Model training with HuggingFace\n",
    "HuggingFace's `transformers` library, introduced in 2020, is an open-source library aimed at making powerful deep learning architectures, such as transformers, easily accessible [3]. It was designed for robust, reliable, and simple implementation of the Natural Language Processing (NLP) workflows, including data processing, model selection, and prediction generation. They also created specific modules and libraries for dataset and tokenizer retrieval which, you will be using. \n",
    "\n",
    "The basic steps to train (or fine-tune) a `transformers` model are:\n",
    "1. Pick a model from the HuggingFace hub \n",
    "2. Select the tokenizer that corresponds to the model you picked\n",
    "3. Apply the tokenizer to the sequences in your dataset\n",
    "4. Define a training configuration\n",
    "5. Set up the Trainer\n",
    "6. Train the model\n",
    "7. Evaluate the model\n",
    "\n",
    "More information on the [HuggingFace website](https://huggingface.co)."
   ]
  },
  {
   "cell_type": "markdown",
   "metadata": {},
   "source": [
    "### Model selection\n",
    "\n",
    "<fig>\n",
    "<img    src=\"images/deeplearning_implementation_workflow.png\"\n",
    "        width=1000\n",
    "        height=290>\n",
    "<figcaption>Fig. 3: HuggingFace's models implementation workflow. Model selection.\n",
    "</figure>"
   ]
  },
  {
   "cell_type": "markdown",
   "metadata": {},
   "source": [
    "\n",
    "HuggingFace offers a wide range of pre-trained models. You can select a model based on your specific task, such as text classification or text generation. You’re going to work with the HyenaDNA model [4], a pre-trained model designed to predict the next token in a sequence, meaning it generates the next nucleotide in a genomic sequence based on the context of the preceding nucleotides. This model differs from conventional transformers by replacing the characteristic attention layer with a **long convolution**, giving it the ability to capture a wider context at each layer while maintaining single-nucleotide resolution. The smallest instance of the model can be accessed by using the string `LongSafari/hyenadna-tiny-1k-seqlen-hf` as an argument for the `AutoModelForSequenceClassification` function, as shown below."
   ]
  },
  {
   "cell_type": "code",
   "execution_count": 7,
   "metadata": {},
   "outputs": [
    {
     "name": "stderr",
     "output_type": "stream",
     "text": [
      "Some weights of HyenaDNAForSequenceClassification were not initialized from the model checkpoint at LongSafari/hyenadna-tiny-1k-seqlen-hf and are newly initialized: ['score.weight']\n",
      "You should probably TRAIN this model on a down-stream task to be able to use it for predictions and inference.\n"
     ]
    }
   ],
   "source": [
    "# Define the model instance using the checkpoint we want to use\n",
    "checkpoint = 'LongSafari/hyenadna-tiny-1k-seqlen-hf' # This is the model's name we are going to use\n",
    "# The num_labels parameter is set to 2 because we have two classes in the dataset (positive and negative)\n",
    "model = AutoModelForSequenceClassification.from_pretrained(checkpoint, trust_remote_code=True, labels=2, safe_serialization=False)"
   ]
  },
  {
   "cell_type": "markdown",
   "metadata": {},
   "source": [
    "### Tokenization\n",
    "\n",
    "<fig>\n",
    "<img    src=\"images/deeplearning_implementation_workflow-2.png\"\n",
    "        width=1000\n",
    "        height=250>\n",
    "<figcaption>Fig. 4: HuggingFace's models implementation workflow. Tokenization.\n",
    "</figure>"
   ]
  },
  {
   "cell_type": "markdown",
   "metadata": {},
   "source": [
    "After selecting the model, you need to choose the corresponding tokenizer to ensure compatibility with the model’s inputs. The tokenizer will encode, pad, and truncate the sequences as necessary, converting them into input tensors that can be used for training or fine-tuning. Formally, **tokenization** is the process of encoding words and converting them into meaningful numerical representations, which is a key step in the **Natural Language Processing** (NLP) workflow. NLP is a subfield of computer science and AI that uses various algorithms to enable computers to understand human language. Its applications range from text encoding and generation to voice recognition and speech systems. Examples of NLP in daily life include chatbots and digital assistants such as Alexa, Bixby, Siri, and Google Assistant.\n",
    "\n",
    "In this case, you’re working on sequence classification, meaning each of these sequences has an inherent “grammar” or structure that defines them as enhancers or not. Just as NLP analyzes sentence grammar by encoding each word, you’ll do the same with genomic sequences.\n",
    "\n",
    "Today, implementing and using a tokenizer to convert  raw genomic sequences into numerical representations is straightforward, thanks to Hugging Face’s `transformers` and `tokenizers` libraries."
   ]
  },
  {
   "cell_type": "code",
   "execution_count": 8,
   "metadata": {},
   "outputs": [],
   "source": [
    "# Define a max_length variable to be used in the tokenizer\n",
    "max_length = 1024 # This variable will represent the maximum length of the input sequences\n",
    "\n",
    "# Load the model and tokenizer\n",
    "tokenizer = AutoTokenizer.from_pretrained(checkpoint, trust_remote_code=True)"
   ]
  },
  {
   "cell_type": "markdown",
   "metadata": {},
   "source": [
    "### Apply the tokenizer to the sequences in your dataset and prepare the dataset\n",
    "Fortunately, the same authors of the `Genomic_Benchmarks` datasets made them available in the Hugging Face hub. All you need to do is retrive the dataset with the `load_dataset` function. The dataset's information is available at the HuggingFace Hub in [this link](https://huggingface.co/datasets/katarinagresova/Genomic_Benchmarks_human_enhancers_cohn)."
   ]
  },
  {
   "cell_type": "code",
   "execution_count": 10,
   "metadata": {},
   "outputs": [],
   "source": [
    "# Retrieve the dataset from the HF hub\n",
    "datataset_card = \"katarinagresova/Genomic_Benchmarks_human_enhancers_cohn\"\n",
    "raw_datasets = load_dataset(datataset_card)"
   ]
  },
  {
   "cell_type": "markdown",
   "metadata": {},
   "source": [
    "Let's take a look to the `raw_datasets` object:"
   ]
  },
  {
   "cell_type": "code",
   "execution_count": 11,
   "metadata": {},
   "outputs": [
    {
     "name": "stdout",
     "output_type": "stream",
     "text": [
      "DatasetDict({\n",
      "    train: Dataset({\n",
      "        features: ['seq', 'label'],\n",
      "        num_rows: 20843\n",
      "    })\n",
      "    test: Dataset({\n",
      "        features: ['seq', 'label'],\n",
      "        num_rows: 6948\n",
      "    })\n",
      "})\n"
     ]
    }
   ],
   "source": [
    "# Print the dataset's details\n",
    "print(raw_datasets)"
   ]
  },
  {
   "cell_type": "markdown",
   "metadata": {},
   "source": [
    "As you can see, it is already splitted in `train` and `test` sets. Let's take a look to the first sample in the `train` set. It should be pretty the same to those you've already seen above."
   ]
  },
  {
   "cell_type": "code",
   "execution_count": 13,
   "metadata": {},
   "outputs": [
    {
     "name": "stdout",
     "output_type": "stream",
     "text": [
      "{'seq': 'TGGTGGTACTTGTCAGGACTTGGAGCAGCAGGTGCAAGATTTAGTGGGTTGGTTTTAGAATATCTGCTTGGAAAGTGGAAAAACTCAATGGATCATCTAGACTTTGGAATTTATCTCCTTCCCCACTTCTCCACTCCCCCAACAACAACAACAACAACAATGACAACAAAAACACCTGGAATAAACAGGTCATACAACGAGGTAGTTGATAGAATAATGTACTTTCCTTTCAGGCACCCCTTGGAGGAGGCAGATTCTGCCCTTTAAGCTGAATCTGCCTTTCCTGCATTTCCTGAAACTCCTGCATTTCCTGAAATCTTCCTGTATTTTCCTGAAATTTCCTGCCATTCCTGAAACTTTAAGGTAACTGTGTCATTAAAGGAAGGAGAGAAGGGAAGTATTAGGACTGCAGATTTGGGGTGCATGATCAGCCTGGCTCTGAGCTTGCAGACTCCCAGAGTCAGGGAAGGGAGGAGCCACCAGCAACCTTGTGGCTTACT', 'label': 0}\n",
      "The sample has the following keys: dict_keys(['seq', 'label'])\n"
     ]
    }
   ],
   "source": [
    "# Print the first element of the training set to see the structure of the dataset\n",
    "print(raw_datasets['train'][0])\n",
    "print(f\"The sample has the following keys: {raw_datasets['train'][0].keys()}\")"
   ]
  },
  {
   "cell_type": "markdown",
   "metadata": {},
   "source": [
    "Each sample in both the `train` and `test` sets is a dictionary object containing the `seq` and `label` keys, representing the raw sequence and its corresponding label, which indicates whether it is an enhancer or not.\n",
    "\n",
    "Now you have to apply the tokenizer only to the sequences in the dataset (not the labels), this will be done by using an auxiliar function called `tokenize_function`."
   ]
  },
  {
   "cell_type": "code",
   "execution_count": 14,
   "metadata": {},
   "outputs": [],
   "source": [
    "# Define a function to tokenize the sequences in the dataset\n",
    "def tokenize_function(example):\n",
    "    return tokenizer(example[\"seq\"], truncation=True)\n",
    "\n",
    "# Tokenize the dataset\n",
    "tokenized_datasets = raw_datasets.map(tokenize_function, batched=True)\n",
    "data_collator = DataCollatorWithPadding(tokenizer=tokenizer) # Define the data collator to pad the sequences to the same length in a batch"
   ]
  },
  {
   "cell_type": "markdown",
   "metadata": {},
   "source": [
    "### Use the `Trainer` API\n",
    "\n",
    "<fig>\n",
    "<img    src=\"images/deeplearning_implementation_workflow-3.png\"\n",
    "        width=1000\n",
    "        height=270>\n",
    "<figcaption>Fig. 5: HuggingFace's models implementation workflow. Model and training configuration.\n",
    "</figure>"
   ]
  },
  {
   "cell_type": "markdown",
   "metadata": {},
   "source": [
    "#### Configure the training parameters\n",
    "The `transformers` module includes a helper that allows you to train a model by simply specifying the training hyperparameters like learning rate, number of epochs and evaluation metrics, making the training and fine-tuning processes straightforward. You will also calculate the model's accuracy after each epoch on the test set. To do this you can see in the next code cell there's a function named `compute_metrics` which will be included in the `TrainingArguments` object. Using the `evaluate` module calculating any evaluation metric is straighforward and easily implemented. You can check all the available evaluation metrics HuggingFace offers at [this website](https://huggingface.co/evaluate-metric)."
   ]
  },
  {
   "cell_type": "code",
   "execution_count": null,
   "metadata": {},
   "outputs": [],
   "source": [
    "# Declare an auxiliar function to calculate evaluation metrics\n",
    "def compute_metrics(eval_preds):\n",
    "    metric = evaluate.load(\"accuracy\")\n",
    "    logits, labels = eval_preds\n",
    "    predictions = np.argmax(logits, axis=-1)\n",
    "    return metric.compute(predictions=predictions, references=labels)\n",
    "\n",
    "# Define the training arguments for the model\n",
    "epochs = 5\n",
    "training_args = TrainingArguments(\"test-model\", eval_strategy=\"epoch\", num_train_epochs=epochs, save_safetensors=False)"
   ]
  },
  {
   "cell_type": "markdown",
   "metadata": {},
   "source": [
    "#### Set up the `Trainer` object\n",
    "Hugging Face's `Trainer` class simplifies the training and evaluation loops by handling the optimizer and loss function automatically. All you need to do is pass the mode, training arguments, and dataset to it."
   ]
  },
  {
   "cell_type": "code",
   "execution_count": null,
   "metadata": {},
   "outputs": [],
   "source": [
    "# Build the trainer instance\n",
    "trainer = Trainer(\n",
    "    model,\n",
    "    training_args,\n",
    "    train_dataset = tokenized_datasets[\"train\"],\n",
    "    eval_dataset = tokenized_datasets[\"test\"],\n",
    "    tokenizer = tokenizer,\n",
    "    data_collator = data_collator,\n",
    "    compute_metrics = compute_metrics\n",
    ")"
   ]
  },
  {
   "cell_type": "markdown",
   "metadata": {},
   "source": [
    "#### Train the model\n",
    "Everything is ready to train the model now! All you need to do is execute the `trainer.train()` method and you will see the training progress."
   ]
  },
  {
   "cell_type": "markdown",
   "metadata": {},
   "source": [
    "<fig>\n",
    "<img    src=\"images/deeplearning_implementation_workflow-4.png\"\n",
    "        width=1000\n",
    "        height=240>\n",
    "<figcaption>Fig. 6: HuggingFace's models implementation workflow. Model's training phase.\n",
    "</figure>"
   ]
  },
  {
   "cell_type": "code",
   "execution_count": 16,
   "metadata": {},
   "outputs": [
    {
     "data": {
      "application/vnd.jupyter.widget-view+json": {
       "model_id": "84ec16caf567469d80391889f6a0f1bb",
       "version_major": 2,
       "version_minor": 0
      },
      "text/plain": [
       "  0%|          | 0/13030 [00:00<?, ?it/s]"
      ]
     },
     "metadata": {},
     "output_type": "display_data"
    },
    {
     "name": "stdout",
     "output_type": "stream",
     "text": [
      "{'loss': 0.6325, 'grad_norm': 9.83174991607666, 'learning_rate': 4.8081350729086726e-05, 'epoch': 0.19}\n",
      "{'loss': 0.5951, 'grad_norm': 9.159469604492188, 'learning_rate': 4.6162701458173444e-05, 'epoch': 0.38}\n",
      "{'loss': 0.5719, 'grad_norm': 5.762088298797607, 'learning_rate': 4.424405218726017e-05, 'epoch': 0.58}\n",
      "{'loss': 0.5709, 'grad_norm': 5.03420352935791, 'learning_rate': 4.23254029163469e-05, 'epoch': 0.77}\n",
      "{'loss': 0.5613, 'grad_norm': 6.887293338775635, 'learning_rate': 4.0406753645433616e-05, 'epoch': 0.96}\n"
     ]
    },
    {
     "data": {
      "application/vnd.jupyter.widget-view+json": {
       "model_id": "5174b4399575465ea66fa148c02f4012",
       "version_major": 2,
       "version_minor": 0
      },
      "text/plain": [
       "  0%|          | 0/869 [00:00<?, ?it/s]"
      ]
     },
     "metadata": {},
     "output_type": "display_data"
    },
    {
     "name": "stdout",
     "output_type": "stream",
     "text": [
      "{'eval_loss': 0.5727924108505249, 'eval_accuracy': 0.6912780656303973, 'eval_runtime': 17.2711, 'eval_samples_per_second': 402.29, 'eval_steps_per_second': 50.315, 'epoch': 1.0}\n",
      "{'loss': 0.5536, 'grad_norm': 13.874720573425293, 'learning_rate': 3.848810437452034e-05, 'epoch': 1.15}\n",
      "{'loss': 0.5569, 'grad_norm': 4.581282138824463, 'learning_rate': 3.6569455103607064e-05, 'epoch': 1.34}\n",
      "{'loss': 0.5528, 'grad_norm': 9.079341888427734, 'learning_rate': 3.465080583269378e-05, 'epoch': 1.53}\n",
      "{'loss': 0.566, 'grad_norm': 6.11770486831665, 'learning_rate': 3.2732156561780505e-05, 'epoch': 1.73}\n",
      "{'loss': 0.5556, 'grad_norm': 4.651160717010498, 'learning_rate': 3.0813507290867236e-05, 'epoch': 1.92}\n"
     ]
    },
    {
     "data": {
      "application/vnd.jupyter.widget-view+json": {
       "model_id": "2136a2b8d4944cbd9e0158af9899b65c",
       "version_major": 2,
       "version_minor": 0
      },
      "text/plain": [
       "  0%|          | 0/869 [00:00<?, ?it/s]"
      ]
     },
     "metadata": {},
     "output_type": "display_data"
    },
    {
     "name": "stdout",
     "output_type": "stream",
     "text": [
      "{'eval_loss': 0.5684458613395691, 'eval_accuracy': 0.7068221070811744, 'eval_runtime': 10.2214, 'eval_samples_per_second': 679.753, 'eval_steps_per_second': 85.018, 'epoch': 2.0}\n",
      "{'loss': 0.5318, 'grad_norm': 5.38993501663208, 'learning_rate': 2.8894858019953953e-05, 'epoch': 2.11}\n",
      "{'loss': 0.5324, 'grad_norm': 17.807106018066406, 'learning_rate': 2.6976208749040678e-05, 'epoch': 2.3}\n",
      "{'loss': 0.5325, 'grad_norm': 13.420855522155762, 'learning_rate': 2.50575594781274e-05, 'epoch': 2.49}\n",
      "{'loss': 0.5192, 'grad_norm': 12.864081382751465, 'learning_rate': 2.3138910207214122e-05, 'epoch': 2.69}\n",
      "{'loss': 0.5334, 'grad_norm': 5.477068901062012, 'learning_rate': 2.1220260936300846e-05, 'epoch': 2.88}\n"
     ]
    },
    {
     "data": {
      "application/vnd.jupyter.widget-view+json": {
       "model_id": "59f7814527864188acd45e35008aa1b8",
       "version_major": 2,
       "version_minor": 0
      },
      "text/plain": [
       "  0%|          | 0/869 [00:00<?, ?it/s]"
      ]
     },
     "metadata": {},
     "output_type": "display_data"
    },
    {
     "name": "stdout",
     "output_type": "stream",
     "text": [
      "{'eval_loss': 0.5646082162857056, 'eval_accuracy': 0.7069660333909038, 'eval_runtime': 10.1626, 'eval_samples_per_second': 683.683, 'eval_steps_per_second': 85.51, 'epoch': 3.0}\n",
      "{'loss': 0.5167, 'grad_norm': 12.374290466308594, 'learning_rate': 1.9301611665387567e-05, 'epoch': 3.07}\n",
      "{'loss': 0.5002, 'grad_norm': 24.634016036987305, 'learning_rate': 1.738296239447429e-05, 'epoch': 3.26}\n",
      "{'loss': 0.5047, 'grad_norm': 17.09833526611328, 'learning_rate': 1.5464313123561015e-05, 'epoch': 3.45}\n",
      "{'loss': 0.4867, 'grad_norm': 26.05577850341797, 'learning_rate': 1.3545663852647736e-05, 'epoch': 3.65}\n",
      "{'loss': 0.5015, 'grad_norm': 22.576974868774414, 'learning_rate': 1.162701458173446e-05, 'epoch': 3.84}\n"
     ]
    },
    {
     "data": {
      "application/vnd.jupyter.widget-view+json": {
       "model_id": "bd130bda2441463e902fc483a53a1986",
       "version_major": 2,
       "version_minor": 0
      },
      "text/plain": [
       "  0%|          | 0/869 [00:00<?, ?it/s]"
      ]
     },
     "metadata": {},
     "output_type": "display_data"
    },
    {
     "name": "stdout",
     "output_type": "stream",
     "text": [
      "{'eval_loss': 0.5880240201950073, 'eval_accuracy': 0.7050949913644214, 'eval_runtime': 10.3551, 'eval_samples_per_second': 670.974, 'eval_steps_per_second': 83.92, 'epoch': 4.0}\n",
      "{'loss': 0.4953, 'grad_norm': 12.378297805786133, 'learning_rate': 9.708365310821182e-06, 'epoch': 4.03}\n",
      "{'loss': 0.4609, 'grad_norm': 17.32761573791504, 'learning_rate': 7.789716039907906e-06, 'epoch': 4.22}\n",
      "{'loss': 0.473, 'grad_norm': 29.07518196105957, 'learning_rate': 5.871066768994628e-06, 'epoch': 4.41}\n",
      "{'loss': 0.466, 'grad_norm': 35.1761589050293, 'learning_rate': 3.952417498081351e-06, 'epoch': 4.6}\n",
      "{'loss': 0.4578, 'grad_norm': 19.361467361450195, 'learning_rate': 2.0337682271680737e-06, 'epoch': 4.8}\n",
      "{'loss': 0.4602, 'grad_norm': 22.86555290222168, 'learning_rate': 1.1511895625479663e-07, 'epoch': 4.99}\n"
     ]
    },
    {
     "data": {
      "application/vnd.jupyter.widget-view+json": {
       "model_id": "845c882e2f764c419ca342ced8b7a69f",
       "version_major": 2,
       "version_minor": 0
      },
      "text/plain": [
       "  0%|          | 0/869 [00:00<?, ?it/s]"
      ]
     },
     "metadata": {},
     "output_type": "display_data"
    },
    {
     "name": "stdout",
     "output_type": "stream",
     "text": [
      "{'eval_loss': 0.6058321595191956, 'eval_accuracy': 0.7020725388601037, 'eval_runtime': 10.6563, 'eval_samples_per_second': 652.007, 'eval_steps_per_second': 81.548, 'epoch': 5.0}\n",
      "{'train_runtime': 512.3546, 'train_samples_per_second': 203.404, 'train_steps_per_second': 25.432, 'train_loss': 0.5264123941510801, 'epoch': 5.0}\n"
     ]
    },
    {
     "data": {
      "text/plain": [
       "TrainOutput(global_step=13030, training_loss=0.5264123941510801, metrics={'train_runtime': 512.3546, 'train_samples_per_second': 203.404, 'train_steps_per_second': 25.432, 'total_flos': 136054540028160.0, 'train_loss': 0.5264123941510801, 'epoch': 5.0})"
      ]
     },
     "execution_count": 16,
     "metadata": {},
     "output_type": "execute_result"
    }
   ],
   "source": [
    "# Train the model\n",
    "trainer.train()"
   ]
  },
  {
   "cell_type": "markdown",
   "metadata": {},
   "source": [
    "Excellent! You just trained a deep learning model that classifies between enhancers and random genomic sequences. But the next question is: how well the model is performing? Or how reliable are its predictions? Is there any measure that can tell you this? The answer is **yes**, there exist many **evaluation metrics** that inform the model's performance. One of the most used ones is **accuracy** which tells you how many **correct** predictions yielded out of the total number of predictions."
   ]
  },
  {
   "cell_type": "markdown",
   "metadata": {},
   "source": [
    "## Evaluation\n",
    "\n",
    "<fig>\n",
    "<img    src=\"images/deeplearning_implementation_workflow-5.png\"\n",
    "        width=1000\n",
    "        height=240>\n",
    "<figcaption>Fig. 7: HuggingFace's models implementation workflow. Evaluation to assess model's performance.\n",
    "</figure>"
   ]
  },
  {
   "cell_type": "markdown",
   "metadata": {},
   "source": [
    "Excellent! You just finished training your model, now what? Is it ready to predict which sequence is an enhancer and which is not? As you may saw during the training process at the end of each epoch some values were displayed. These inform you about the model's learning process. You can plot these values and watch the model's evolution through the epochs."
   ]
  },
  {
   "cell_type": "code",
   "execution_count": 17,
   "metadata": {},
   "outputs": [
    {
     "name": "stdout",
     "output_type": "stream",
     "text": [
      "[{'eval_loss': 0.5727924108505249, 'eval_accuracy': 0.6912780656303973, 'eval_runtime': 17.2711, 'eval_samples_per_second': 402.29, 'eval_steps_per_second': 50.315, 'epoch': 1.0, 'step': 2606}, {'eval_loss': 0.5684458613395691, 'eval_accuracy': 0.7068221070811744, 'eval_runtime': 10.2214, 'eval_samples_per_second': 679.753, 'eval_steps_per_second': 85.018, 'epoch': 2.0, 'step': 5212}, {'eval_loss': 0.5646082162857056, 'eval_accuracy': 0.7069660333909038, 'eval_runtime': 10.1626, 'eval_samples_per_second': 683.683, 'eval_steps_per_second': 85.51, 'epoch': 3.0, 'step': 7818}, {'eval_loss': 0.5880240201950073, 'eval_accuracy': 0.7050949913644214, 'eval_runtime': 10.3551, 'eval_samples_per_second': 670.974, 'eval_steps_per_second': 83.92, 'epoch': 4.0, 'step': 10424}, {'eval_loss': 0.6058321595191956, 'eval_accuracy': 0.7020725388601037, 'eval_runtime': 10.6563, 'eval_samples_per_second': 652.007, 'eval_steps_per_second': 81.548, 'epoch': 5.0, 'step': 13030}]\n"
     ]
    }
   ],
   "source": [
    "# Extract the metrics of the evaluation loops in each epoch\n",
    "eval_metrics = [item for item in trainer.state.log_history if \"eval_loss\" in item]\n",
    "print(eval_metrics)"
   ]
  },
  {
   "cell_type": "code",
   "execution_count": 18,
   "metadata": {},
   "outputs": [],
   "source": [
    "# Extract the loss and accuracies in differente lists\n",
    "losses = [item['eval_loss'] for item in eval_metrics]\n",
    "accuracies = [item[\"eval_accuracy\"] for item in eval_metrics]"
   ]
  },
  {
   "cell_type": "markdown",
   "metadata": {},
   "source": [
    "### Accuracy and Loss\n",
    "\n",
    "The **loss value** is a metric that indicates how far the model’s predictions are from the ground truth—the lower the value, the better the model is performing.\n",
    "\n",
    "In contrast, **accuracy** represents the percentage of correct predictions out of the total number of predictions. In other words, it shows how often the model correctly predicts either the positive or negative classes.\n",
    "\n",
    "The following figure illustrates the ideal relationship between these two metrics:\n",
    "\n",
    "<fig>\n",
    "<img    src=\"images/loss_and_accuracy.png\"\n",
    "        width=1000\n",
    "        height=600>\n",
    "<figcaption>Fig. 8: The ideal progression of the loss value and accuracy metrics: A decreasing loss value indicates that the model is making increasingly better predictions. For accuracy, a higher value means the model is generating more correct predictions.\n",
    "</figure>"
   ]
  },
  {
   "cell_type": "code",
   "execution_count": 19,
   "metadata": {},
   "outputs": [
    {
     "data": {
      "image/png": "[encoded data removed]",
      "text/plain": [
       "<Figure size 1800x600 with 2 Axes>"
      ]
     },
     "metadata": {},
     "output_type": "display_data"
    }
   ],
   "source": [
    "# Plot the loss and accuracy values agianst the number of epochs\n",
    "n_epochs = np.arange(1, epochs + 1) # Create an array with the number of epochs\n",
    "plt.figure(figsize=(18, 6))\n",
    "plt.subplot(1, 2, 1)\n",
    "plt.plot(n_epochs, losses)\n",
    "plt.xticks(n_epochs)\n",
    "plt.title(\"Loss vs. Number of epochs\")\n",
    "plt.xlabel(\"Number of epochs\")\n",
    "plt.ylabel(\"Loss\")\n",
    "plt.subplot(1, 2, 2)\n",
    "plt.plot(n_epochs, accuracies)\n",
    "plt.xticks(n_epochs)\n",
    "plt.title(\"Accuracy vs. Number of epochs\")\n",
    "plt.xlabel(\"Number of epochs\")\n",
    "plt.ylabel(\"Accuracy\")\n",
    "plt.show()"
   ]
  },
  {
   "cell_type": "markdown",
   "metadata": {},
   "source": [
    "### Confusion matrix\n",
    "\n",
    "Another way of assessing how well your model works is with a **confusion matrix**. This is a metric that quantifies and shows the number of correct predictions against the incorrect ones. It compares the number of predicted values against the true ones, allowing to check how often the model misses to clasify correctly a sample.\n",
    "\n",
    "To calculate it you just need to generate predictions with your model and compare them against the labels contained in the dataset. In the next code cell it's showed how to do this.\n",
    "\n",
    "The following figure explains how to interpret a confusion matrix:\n",
    "\n",
    "<fig>\n",
    "<img    src=\"images/ENG_Confusion_matrix.png\"\n",
    "        width=700\n",
    "        height=600>\n",
    "<figcaption>Fig. 9: The confusion matrix explained.\n",
    "</figure>"
   ]
  },
  {
   "cell_type": "code",
   "execution_count": 20,
   "metadata": {},
   "outputs": [
    {
     "data": {
      "application/vnd.jupyter.widget-view+json": {
       "model_id": "7b2a5902c28445e38a3cc73df96ed983",
       "version_major": 2,
       "version_minor": 0
      },
      "text/plain": [
       "  0%|          | 0/869 [00:00<?, ?it/s]"
      ]
     },
     "metadata": {},
     "output_type": "display_data"
    },
    {
     "data": {
      "image/png": "[encoded data removed]",
      "text/plain": [
       "<Figure size 800x600 with 2 Axes>"
      ]
     },
     "metadata": {},
     "output_type": "display_data"
    }
   ],
   "source": [
    "# We need to produce a set of predictions on the test set\n",
    "model_out = trainer.predict(tokenized_datasets[\"test\"])\n",
    "logits = model_out.predictions\n",
    "predictions = np.argmax(logits, axis=-1)\n",
    "\n",
    "# Load the confusion matrix metric from HF\n",
    "confusion_matrix_metric = evaluate.load(\"confusion_matrix\")\n",
    "# Compute the confusion matrix\n",
    "confusion_matrix = confusion_matrix_metric.compute(predictions=predictions, references=model_out.label_ids)\n",
    "\n",
    "# Display the confusion matrix\n",
    "plt.figure(figsize=(8, 6)) \n",
    "sns.heatmap(confusion_matrix['confusion_matrix'], annot=True, fmt='d', cmap=sns.light_palette(\"seagreen\", as_cmap=True)) # Create a heatmap of the confusion matrix\n",
    "plt.xlabel('Predicted labels')\n",
    "plt.ylabel('True labels')\n",
    "plt.title('Confusion Matrix')\n",
    "plt.show()"
   ]
  },
  {
   "cell_type": "markdown",
   "metadata": {},
   "source": [
    "### Receiver-Operator Characteristic (ROC) curve\n",
    "The **ROC curve** plots the true positive rate (TPR) against the false positive rate (FPR). While it’s typically used for binary classification tasks, it can also be adapted for multi-class classification with some adjustments. An ideal ROC curve would rise sharply from the origin to the top-left corner and then extend horizontally to the top-right corner. The greater the area under the curve (AUC), the better the classifier’s performance, with a full AUC representing a perfect classifier.\n",
    "\n",
    "The following image shows how a ROC curve shoulb be interpreted.\n",
    "\n",
    "<fig>\n",
    "<img    src=\"images/ROC_curve.png\"\n",
    "        width=700\n",
    "        height=600>\n",
    "<figcaption>Fig. 10: A receiver-operator characteristic curve (ROC).\n",
    "</figure>"
   ]
  },
  {
   "cell_type": "markdown",
   "metadata": {},
   "source": [
    "\n",
    "In the next code cell, it is shown how to generate a ROC curve using the same `model_out.label_ids` and `predictions` variables as in the confusion matrix."
   ]
  },
  {
   "cell_type": "code",
   "execution_count": 28,
   "metadata": {},
   "outputs": [
    {
     "data": {
      "image/png": "[encoded data removed]",
      "text/plain": [
       "<Figure size 800x600 with 1 Axes>"
      ]
     },
     "metadata": {},
     "output_type": "display_data"
    }
   ],
   "source": [
    "# Plot a ROC curve \n",
    "roc_auc = roc_auc_score(model_out.label_ids, predictions) # Calculate the ROC AUC score\n",
    "fpr, tpr, _ = roc_curve(model_out.label_ids, predictions) # Calculate the false positive rate and true positive rate\n",
    "\n",
    "plt.figure(figsize=(8, 6))\n",
    "plt.plot(fpr, tpr, color='darkorange', lw=2, label=f'ROC curve (area = {roc_auc:.2f})') # Plot the ROC curve\n",
    "plt.plot([0, 1], [0, 1], color='navy', lw=2, linestyle='--') \n",
    "plt.xlabel('False Positive Rate')\n",
    "plt.ylabel('True Positive Rate')\n",
    "plt.title('ROC Curve')\n",
    "plt.legend(loc=\"lower right\")\n",
    "plt.show()"
   ]
  },
  {
   "cell_type": "markdown",
   "metadata": {},
   "source": [
    "### Summary on these and more evaluation metrics\n",
    "* $TP$: True Positives\n",
    "* $TN$: True Negatives\n",
    "* $FP$: False Positives\n",
    "* $FN$: False Negatives\n",
    "\n",
    "#### Accuracy\n",
    "It's the quantity of correct predictions out of the total number of samples within a dataset. Its value is commonly represented from 0% to 100%.\n",
    "\n",
    "$$Accuracy = \\frac{TP + TN}{TP + FN + TN + FP}$$\n",
    "\n",
    "#### Sensitivity \n",
    "It is the true positive rate of the model's test. In other words, means how many of the enhancer sequences were actually categorized as enhancers.\n",
    "Recall the confusion matrix where 2,465 out of 3,474 sequences were correctly classified (results when preparing the workshop). Its value goes from 0 to 100% as well.\n",
    "\n",
    "$$Sensitivity = \\frac{TP}{TP+FN}$$\n",
    "\n",
    "#### Specificity\n",
    "This is the true negative rate when testing a predictive model. In this case it represents the proportion of the sequences that **are not** enhancers and were correctly differentiated from the enhancer sequences. Again, if you see the confusion matrix you can see in the first row that 2,438 sequences out of 3474 were correctly classified as **not enhacers**.\n",
    "\n",
    "$$Specificity = \\frac{TN}{TN+FP}$$\n",
    "\n",
    "#### Precision\n",
    "This one represents the truly positive sequences from all the samples that were classified as *positive* by the model. In this case only the second column in the confusion matrix is considered. Its values goes from 0 to 100% too. \n",
    "\n",
    "$$Precision = \\frac{TP}{TP+FP}$$\n",
    "\n",
    "#### The receiver-operator characteristic curve (ROC)\n",
    "<fig>\n",
    "<img    src=\"images/ROC_curve.png\"\n",
    "        width=700\n",
    "        height=600>\n",
    "</figure>\n",
    "\n",
    "#### Confusion matrix\n",
    "\n",
    "<fig>\n",
    "<img    src=\"images/ENG_Confusion_matrix.png\"\n",
    "        width=700\n",
    "        height=600>\n",
    "</figure>"
   ]
  },
  {
   "cell_type": "markdown",
   "metadata": {},
   "source": [
    "---"
   ]
  },
  {
   "cell_type": "markdown",
   "metadata": {},
   "source": [
    "# Training a PyTorch model with your own data\n",
    "\n",
    "You have successfully trained a deep learning model using a dataset that contains genomic sequences that either **are** or **are not** enhancers. But what if the data for your experiment is different? Can you still train the same model? How would you pre-process your data to make it compatible with these neural networks? Also, what if you want to build your own model or tweak it however you want?\n",
    "\n",
    "To finish this workshop, you will download a new dataset in `csv` format containing **coding** and **non-coding** sequences (extracted from [7]), transform it into representable tensors, build and train a new model, and evaluate its performance."
   ]
  },
  {
   "cell_type": "markdown",
   "metadata": {},
   "source": [
    "## Prepare the data\n",
    "The data you're about to download is a `csv` file with genomic sequences representing coding **or** non-coding sequences. This data is located in a drive folder, you can download and give a check to the data with the following code cell."
   ]
  },
  {
   "cell_type": "code",
   "execution_count": 2,
   "metadata": {},
   "outputs": [
    {
     "data": {
      "text/html": [
       "<div>\n",
       "<style scoped>\n",
       "    .dataframe tbody tr th:only-of-type {\n",
       "        vertical-align: middle;\n",
       "    }\n",
       "\n",
       "    .dataframe tbody tr th {\n",
       "        vertical-align: top;\n",
       "    }\n",
       "\n",
       "    .dataframe thead th {\n",
       "        text-align: right;\n",
       "    }\n",
       "</style>\n",
       "<table border=\"1\" class=\"dataframe\">\n",
       "  <thead>\n",
       "    <tr style=\"text-align: right;\">\n",
       "      <th></th>\n",
       "      <th>Unnamed: 0</th>\n",
       "      <th>sequences</th>\n",
       "      <th>value</th>\n",
       "    </tr>\n",
       "  </thead>\n",
       "  <tbody>\n",
       "    <tr>\n",
       "      <th>0</th>\n",
       "      <td>0</td>\n",
       "      <td>GGCAGCGCCGCGGCCGGGAGGGACCGAGCGGGGAGCAAGGCCTGCG...</td>\n",
       "      <td>0</td>\n",
       "    </tr>\n",
       "    <tr>\n",
       "      <th>1</th>\n",
       "      <td>1</td>\n",
       "      <td>GTCCCTTGCATCCTCAGGGCCCGCCCGGCAGGACGACTGAGCAGGC...</td>\n",
       "      <td>0</td>\n",
       "    </tr>\n",
       "    <tr>\n",
       "      <th>2</th>\n",
       "      <td>2</td>\n",
       "      <td>ATCAGCCTTGGGAGTGACAATCTGCTCCCTTCATCTGTCTTCAGGA...</td>\n",
       "      <td>0</td>\n",
       "    </tr>\n",
       "    <tr>\n",
       "      <th>3</th>\n",
       "      <td>3</td>\n",
       "      <td>GCCGCTGGGTGGGGTCGAGACTGGCAGCTGAGAGATACCAAAAGGA...</td>\n",
       "      <td>0</td>\n",
       "    </tr>\n",
       "    <tr>\n",
       "      <th>4</th>\n",
       "      <td>4</td>\n",
       "      <td>GTTCTACCTCTTGACATGTAGTATGAACATAAAGCACAGTTGATTC...</td>\n",
       "      <td>0</td>\n",
       "    </tr>\n",
       "  </tbody>\n",
       "</table>\n",
       "</div>"
      ],
      "text/plain": [
       "   Unnamed: 0                                          sequences  value\n",
       "0           0  GGCAGCGCCGCGGCCGGGAGGGACCGAGCGGGGAGCAAGGCCTGCG...      0\n",
       "1           1  GTCCCTTGCATCCTCAGGGCCCGCCCGGCAGGACGACTGAGCAGGC...      0\n",
       "2           2  ATCAGCCTTGGGAGTGACAATCTGCTCCCTTCATCTGTCTTCAGGA...      0\n",
       "3           3  GCCGCTGGGTGGGGTCGAGACTGGCAGCTGAGAGATACCAAAAGGA...      0\n",
       "4           4  GTTCTACCTCTTGACATGTAGTATGAACATAAAGCACAGTTGATTC...      0"
      ]
     },
     "execution_count": 2,
     "metadata": {},
     "output_type": "execute_result"
    }
   ],
   "source": [
    "# Step 1: Get the URL of the CSV file\n",
    "file_id = \"1itLZCkFbeqlscbrrZdhX-9qA5j2Hc_W_\"\n",
    "url = f\"https://drive.google.com/uc?id={file_id}\"  # Replace with the actual URL of the CSV file\n",
    "\n",
    "# Step 2: Download the file using gdown\n",
    "output = 'data.csv'  # The name of the downloaded file\n",
    "gdown.download(url, output, quiet=True)\n",
    "\n",
    "# Step 3: Load the CSV file into a DataFrame\n",
    "df = pd.read_csv(output)\n",
    "\n",
    "# Display the first few rows of the DataFrame\n",
    "df.head()"
   ]
  },
  {
   "cell_type": "markdown",
   "metadata": {},
   "source": [
    "You have already downloaded the dataset, but it isn't ready to be used with a neural network yet. PyTorch neural networks expect their inputs to be arranged in a special data structure known as **tensor**. If you have experience with Numpy's `ndarray`s getting to know tensors will be pretty easy. These are $n$-dimensional number arrays optimized for gradient calculus and other operations that run in the background when training a neural network. More information about tensors and their specifications on [PyTorch's website](https://pytorch.org).\n",
    "\n",
    "But how does a tensor look like? In the following code cells we initialize random tensors and display them just for illustrative purposes."
   ]
  },
  {
   "cell_type": "code",
   "execution_count": 3,
   "metadata": {},
   "outputs": [
    {
     "name": "stdout",
     "output_type": "stream",
     "text": [
      "tensor([1, 2, 3, 4, 5])\n"
     ]
    }
   ],
   "source": [
    "my_tensor = torch.tensor([1, 2, 3, 4, 5]) # As you can see, it takes a list an input\n",
    "print(my_tensor)"
   ]
  },
  {
   "cell_type": "markdown",
   "metadata": {},
   "source": [
    "Tensor's data type is an important consideration always. Many errors arise when tensor's data types aren't the same bewteen the inputs and the labels. Specifically, this error arises when calculating the **loss**, a value that measures the difference between the model predictions and the ground-truth (your labels)."
   ]
  },
  {
   "cell_type": "code",
   "execution_count": 4,
   "metadata": {},
   "outputs": [
    {
     "data": {
      "text/plain": [
       "torch.int64"
      ]
     },
     "execution_count": 4,
     "metadata": {},
     "output_type": "execute_result"
    }
   ],
   "source": [
    "my_tensor.dtype # Using the dtype attribute, we can see the data type of the tensor"
   ]
  },
  {
   "cell_type": "markdown",
   "metadata": {},
   "source": [
    "You can manipulate tensors by adding or removing elements, changing their data types, do any mathematical or arithmetical operation with them, etc."
   ]
  },
  {
   "cell_type": "code",
   "execution_count": 5,
   "metadata": {},
   "outputs": [
    {
     "name": "stdout",
     "output_type": "stream",
     "text": [
      "torch.float64\n"
     ]
    }
   ],
   "source": [
    "my_tensor = my_tensor.to(torch.float64) # We can change the data type of the tensor using the .float() method\n",
    "print(my_tensor.dtype)"
   ]
  },
  {
   "cell_type": "code",
   "execution_count": 6,
   "metadata": {},
   "outputs": [
    {
     "name": "stdout",
     "output_type": "stream",
     "text": [
      "tensor([ 1.,  4.,  9., 16., 25.], dtype=torch.float64)\n"
     ]
    }
   ],
   "source": [
    "tensor_mul = my_tensor * my_tensor # We can perform element-wise multiplication on tensors\n",
    "print(tensor_mul)"
   ]
  },
  {
   "cell_type": "markdown",
   "metadata": {},
   "source": [
    "## Tokenization\n",
    "Now that you know you need these sequences in a specific format, the next question is: how do you transform these sequences into representable tensors? Here's where the tokenizer makes its entrance again! You can either create your own tokenizer or use any tokenizer available in the HuggingFace Hub. For the pourpuses of this tutorial you will use the HyenaDNA tokenizer once again."
   ]
  },
  {
   "cell_type": "code",
   "execution_count": 3,
   "metadata": {},
   "outputs": [],
   "source": [
    "# instantiate tokenizer\n",
    "checkpoint = 'LongSafari/hyenadna-tiny-1k-seqlen-hf' # This is the model's name we are going to use\n",
    "max_length = 1024 # This variable will represent the maximum length of the input sequences\n",
    "\n",
    "# Load the model and tokenizer\n",
    "tokenizer = AutoTokenizer.from_pretrained(checkpoint, trust_remote_code=True)"
   ]
  },
  {
   "cell_type": "markdown",
   "metadata": {},
   "source": [
    "Let's apply this tokenizer to the first sequence to look how the data comes out of it."
   ]
  },
  {
   "cell_type": "code",
   "execution_count": 4,
   "metadata": {},
   "outputs": [
    {
     "name": "stdout",
     "output_type": "stream",
     "text": [
      "{'input_ids': [9, 9, 8, 7, 9, 8, 9, 8, 8, 9, 8, 9, 9, 8, 8, 9, 9, 9, 7, 9, 9, 9, 7, 8, 8, 9, 7, 9, 8, 9, 9, 9, 9, 7, 9, 8, 7, 7, 9, 9, 8, 8, 10, 9, 8, 9, 9, 9, 9, 7, 9, 9, 8, 9, 8, 7, 9, 9, 7, 10, 9, 9, 7, 8, 9, 8, 9, 10, 10, 9, 9, 8, 10, 9, 10, 8, 7, 10, 9, 7, 10, 9, 10, 7, 9, 9, 7, 8, 8, 10, 8, 8, 10, 9, 7, 8, 8, 10, 7, 9, 7, 7, 8, 8, 7, 10, 9, 8, 8, 8, 9, 9, 8, 9, 8, 7, 9, 9, 9, 7, 9, 7, 7, 8, 7, 7, 8, 9, 7, 9, 8, 10, 10, 7, 8, 9, 9, 7, 8, 8, 9, 9, 9, 10, 9, 8, 9, 9, 9, 9, 9, 8, 10, 9, 8, 10, 9, 10, 9, 8, 9, 7, 9, 7, 7, 7, 9, 8, 8, 10, 7, 8, 8, 10, 9, 8, 10, 9, 9, 8, 8, 8, 9, 9, 9, 7, 9, 8, 9, 10, 10, 8, 9, 8, 8, 9, 9, 8, 8, 8, 7, 8, 8, 10, 9, 9, 10, 9, 9, 8, 10, 10, 10, 8, 8, 8, 10, 9, 9, 7, 8, 9, 10, 10, 10, 7, 7, 8, 9, 9, 8, 9, 7, 8, 10, 8, 8, 9, 8, 8, 8, 9, 9, 8, 8, 10, 8, 8, 8, 9, 7, 8, 10, 10, 10, 10, 10, 9, 7, 10, 9, 8, 7, 9, 9, 8, 9, 10, 10, 8, 10, 8, 10, 10, 7, 8, 7, 10, 9, 7, 8, 10, 10, 10, 8, 10, 10, 8, 9, 7, 9, 9, 8, 10, 7, 9, 7, 10, 10, 8, 10, 8, 9, 7, 7, 7, 9, 7, 8, 7, 10, 8, 8, 10, 9, 7, 7, 9, 9, 10, 9, 9, 8, 10, 10, 10, 8, 10, 10, 7, 7, 10, 10, 7, 9, 8, 10, 9, 8, 8, 10, 8, 7, 8, 8, 9, 9, 8, 10, 9, 9, 8, 9, 9, 7, 9, 8, 7, 9, 10, 10, 8, 9, 10, 7, 9, 10, 8, 9, 8, 8, 10, 7, 8, 7, 10, 8, 9, 7, 9, 7, 9, 9, 9, 7, 9, 7, 9, 8, 8, 8, 8, 9, 10, 8, 8, 10, 9, 9, 8, 10, 8, 7, 9, 10, 7, 8, 10, 9, 9, 9, 9, 8, 10, 10, 8, 9, 10, 9, 9, 7, 8, 9, 8, 9, 8, 10, 9, 10, 7, 9, 8, 9, 9, 9, 10, 8, 10, 10, 8, 9, 8, 8, 9, 10, 8, 9, 10, 9, 9, 9, 10, 7, 9, 9, 7, 7, 7, 8, 7, 9, 10, 8, 9, 9, 9, 8, 8, 9, 9, 7, 10, 8, 8, 8, 8, 9, 9, 10, 9, 10, 8, 10, 9, 9, 9, 9, 7, 9, 8, 9, 9, 8, 10, 9, 8, 8, 9, 9, 8, 8, 9, 9, 9, 8, 8, 8, 9, 8, 9, 8, 9, 7, 9, 8, 8, 9, 8, 10, 10, 8, 7, 8, 10, 8, 8, 10, 7, 8, 7, 7, 9, 8, 8, 8, 9, 9, 8, 10, 8, 7, 8, 10, 7, 9, 10, 10, 8, 8, 7, 7, 9, 8, 10, 9, 8, 10, 9, 9, 7, 8, 10, 10, 10, 9, 7, 8, 8, 8, 10, 8, 9, 8, 10, 9, 9, 9, 7, 7, 9, 8, 10, 10, 9, 7, 10, 8, 9, 8, 8, 9, 8, 8, 10, 9, 10, 10, 8, 10, 8, 9, 8, 8, 7, 7, 10, 8, 10, 8, 10, 7, 10, 9, 8, 8, 10, 10, 10, 9, 8, 7, 8, 10, 9, 8, 8, 8, 7, 9, 8, 7, 7, 8, 8, 8, 9, 9, 10, 8, 7, 8, 10, 9, 8, 8, 8, 7, 9, 9, 7, 8, 8, 10, 9, 10, 10, 7, 7, 7, 7, 9, 10, 10, 9, 7, 7, 10, 9, 9, 7, 8, 8, 10, 8, 8, 8, 7, 9, 7, 7, 10, 8, 7, 8, 9, 8, 8, 9, 8, 10, 9, 8, 8, 7, 8, 8, 9, 8, 8, 9, 10, 10, 10, 8, 10, 7, 9, 7, 9, 7, 8, 9, 9, 8, 10, 10, 10, 10, 9, 9, 8, 8, 7, 8, 8, 10, 10, 10, 9, 7, 9, 7, 7, 10, 8, 7, 9, 9, 9, 10, 8, 7, 7, 7, 8, 10, 10, 9, 9, 7, 7, 9, 9, 9, 8, 8, 10, 9, 8, 7, 10, 10, 10, 9, 10, 8, 7, 8, 7, 8, 10, 10, 8, 8, 10, 8, 9, 9, 7, 8, 7, 8, 10, 7, 7, 10, 10, 10, 9, 9, 7, 10, 7, 9, 10, 10, 8, 7, 9, 9, 8, 8, 8, 7, 9, 7, 9, 7, 8, 9, 9, 8, 10, 10, 8, 8, 8, 9, 9, 9, 10, 10, 7, 9, 10, 9, 10, 9, 8, 8, 10, 9, 7, 8, 7, 7, 8, 7, 8, 10, 9, 7, 7, 9, 7, 7, 7, 7, 7, 10, 10, 9, 10, 9, 7, 8, 7, 10, 10, 10, 10, 8, 8, 10, 10, 8, 8, 8, 8, 7, 9, 7, 7, 10, 10, 7, 8, 10, 10, 8, 9, 10, 10, 10, 10, 7, 10, 7, 8, 7, 10, 10, 10, 8, 7, 8, 10, 10, 8, 10, 8, 10, 10, 8, 10, 9, 7, 7, 7, 10, 8, 7, 8, 7, 9, 8, 7, 7, 10, 9, 8, 8, 7, 9, 10, 10, 10, 9, 8, 9, 8, 8, 10, 10, 10, 10, 9, 9, 10, 8, 10, 9, 7, 9, 9, 7, 7, 8, 9, 8, 7, 9, 9, 8, 8, 8, 10, 9, 9, 8, 8, 7, 8, 10, 7, 8, 8, 7, 9, 9, 7, 7, 7, 7, 7, 9, 10, 7, 10, 10, 10, 7, 8, 10, 10, 10, 10, 7, 7, 7, 7, 8, 10, 10, 9, 7, 7, 10, 9, 10, 7, 10, 7, 10, 8, 10, 10, 10, 7, 8, 8, 9, 10, 7, 10, 9, 8, 8, 10, 7, 9, 10, 7, 1]}\n"
     ]
    }
   ],
   "source": [
    "enconded_sequence = tokenizer(df[\"sequences\"][0], truncation=True, padding=\"max_length\", max_length=max_length)\n",
    "print(enconded_sequence)"
   ]
  },
  {
   "cell_type": "markdown",
   "metadata": {},
   "source": [
    "As you can see, now your sequence is represented as a bunch of numbers. Each of them represents each of the nucleotides that conform the sequence you used as input and the tokenizer adds some special tokens to differentiate from sequence to sequence when passed into the training phase. Let's see how the network will read your sequences in meaningful way for you."
   ]
  },
  {
   "cell_type": "code",
   "execution_count": 111,
   "metadata": {},
   "outputs": [
    {
     "name": "stdout",
     "output_type": "stream",
     "text": [
      "GGCAGCGCCGCGGCCGGGAGGGACCGAGCGGGGAGCAAGGCCTGCGGGGAGGCGCAGGATGGACGCGTTGGCTGTCATGATGTAGGACCTCCTGACCTAGAACCATGCCCGGCGCAGGGAGAACAACGAGCTTACGGACCGGGTGCGGGGGCTGCTGTGCGAGAAAGCCTACCTGCTGGCCCGGGAGCGTTCGCCGGCCCACCTGGTGGCTTTCCCTGGACGTTTAACGGCGACTCCGCCCGGCCTCCCGACTTTTTGATGCAGGCGTTCTCTTACATGACTTTCTTCGAGGCTAGATTCTCGAAAGACATCCTGAAGGTGGCTTTCTTAATTAGCTGCCTCACCGGCTGGCGGAGCAGTTCGTAGTCGCCTACATCGAGAGGGAGAGCCCCGTCCTGGCTCAGTACTGGGGCTTCGTGGACGCGCTGTAGCGGGTCTTCGCCGTCGTGGGTAGGAAACAGTCGGGCCGGATCCCCGGTGTCTGGGGAGCGGCTGCCGGCCGGGCCCGCGCGAGCCGCTTCACTCCTACAAGCCCGGCTCACTAGTTCCAAGCTGCTGGACTTTGACCCTCGCTGGGAAGCTTGATCGCCGCCTGTTCTCGCCAATCTCTATGCCTTTGCACTGCCCAGCAACCCGGTCACTGCCCAGGACCTGTTAAAAGTTGAATGGACCTCCCAGAATCACGCCGCTGCCACCGCCGTTTCTAGAGACGGCTTTTGGCCACCTTTGAGAATCAGGGTCAAACTTGGAAGGGCCTGCATTTGTCACACTTCCTCGGACACTAATTTGGATAGTTCAGGCCCAGAGACGGCTTCCCGGGTTAGTGTGCCTGACAACACTGAAGAAAAATTGTGACATTTTCCTTCCCCAGAATTACTTCGTTTTATACATTTCACTTCTCTTCTGAAATCACAGCAATGCCAGTTTGCGCCTTTTGGTCTGAGGAACGCAGGCCCTGGCCACTACCAGGAAAAAGTATTTACTTTTAAAACTTGAATGTATATCTTTACCGTATGCCTAGTA[SEP]\n",
      "The special token the tokenizer adds is: [SEP]\n"
     ]
    }
   ],
   "source": [
    "decoded = tokenizer.decode(enconded_sequence['input_ids'])\n",
    "print(decoded)\n",
    "print(f\"The special token the tokenizer adds is: {tokenizer.decode(enconded_sequence[\"input_ids\"][-1])}\")"
   ]
  },
  {
   "cell_type": "markdown",
   "metadata": {},
   "source": [
    "If you want to obtain the PyTorch tensors directly just add the `return_tensors=\"pt\"` parameter."
   ]
  },
  {
   "cell_type": "code",
   "execution_count": 112,
   "metadata": {},
   "outputs": [
    {
     "name": "stdout",
     "output_type": "stream",
     "text": [
      "{'input_ids': tensor([[ 9,  9,  8,  ..., 10,  7,  1]])}\n"
     ]
    }
   ],
   "source": [
    "encoded_tensors = tokenizer(df[\"sequences\"][0], truncation=True, padding=True, max_length=max_length, return_tensors='pt')\n",
    "print(encoded_tensors)"
   ]
  },
  {
   "cell_type": "markdown",
   "metadata": {},
   "source": [
    "The output's data structure is a dictionary containing the `input_ids` key which contains the actual tensors you're going to use to train your model. There's still one problem, we need to pass these encoded sequences to the model in **mini-batches**, we have just converted only one sequence up to this point. How can you convert and tokenize these sequences in mini-batches? "
   ]
  },
  {
   "cell_type": "markdown",
   "metadata": {},
   "source": [
    "### The `Dataset` and `DataLoader` objects\n",
    "To make this data set compatible with PyTorch and HuggingFace models you need to turn it into a `Dataset` object. As you already have many variables containing the information about the model, the tokenizer, the loss function and many others, training again the model will be pretty straightforward.\n",
    "\n",
    "To create a `Dataset` object run the next code cell:"
   ]
  },
  {
   "cell_type": "code",
   "execution_count": 5,
   "metadata": {},
   "outputs": [],
   "source": [
    "# Class for ncRNA and cDNA Dataset object\n",
    "# It is important to note that in Jupyter notebooks, the class definition should be in the same cell as the import statements\n",
    "from torch.utils.data import Dataset\n",
    "import pandas as pd\n",
    "from sklearn.model_selection import train_test_split\n",
    "\n",
    "class coding_and_noncoding_dataset(Dataset):\n",
    "    '''\n",
    "    Class for the coding and noncoding dataset from Ensembl.\n",
    "    The dataset is a CSV file with two columns: \"sequences\" and \"value\". Being 0 for noncoding and 1 for coding.\n",
    "    You can split the dataset into train and test sets by setting split=True and defining the test_size.\n",
    "    For reproducibility, you can set the random_seed (defaulted to 42).\n",
    "    '''\n",
    "    def __init__(\n",
    "        self,\n",
    "        data_path,\n",
    "        max_length,\n",
    "        tokenizer = None,\n",
    "        split='train',\n",
    "        test_size=0.2,\n",
    "        random_seed=42,\n",
    "        use_padding=None,\n",
    "    ):\n",
    "        \n",
    "        self.data = pd.read_csv(data_path)\n",
    "        self.max_length = max_length\n",
    "        self.tokenizer = tokenizer\n",
    "        self.split = split\n",
    "        self.test_size = test_size\n",
    "        self.random_seed = random_seed\n",
    "        self.use_padding = use_padding\n",
    "\n",
    "        # Split the dataset into train and test sets depending on the split parameter\n",
    "        if self.split == 'train':\n",
    "            self.seq, _, self.label, _ = train_test_split(self.data['sequences'], self.data['value'],\n",
    "                                                          test_size=self.test_size, random_state=self.random_seed)\n",
    "        elif self.split == 'test':\n",
    "            _, self.seq, _, self.label = train_test_split(self.data['sequences'], self.data['value'],\n",
    "                                                          test_size=self.test_size, random_state=self.random_seed)\n",
    "\n",
    "    def __len__(self):\n",
    "        return len(self.seq)\n",
    "\n",
    "    def __getitem__(self, idx):\n",
    "        x = self.seq.iloc[idx]\n",
    "        y = self.label.iloc[idx]\n",
    "\n",
    "        # Tokenize the sequence and get the input_ids\n",
    "        seq = self.tokenizer(x,\n",
    "            add_special_tokens=False,\n",
    "            padding=\"max_length\" if self.use_padding else None,\n",
    "            max_length=self.max_length,\n",
    "            truncation=True,\n",
    "        )  # add cls and eos token (+2)\n",
    "        seq = seq[\"input_ids\"]  # get input_ids\n",
    "\n",
    "        # Convert into Long Tensors (y has to be wrapped in a list)\n",
    "        seq = torch.tensor(seq).to(torch.float32)\n",
    "        target = torch.tensor([y]).to(torch.float32)\n",
    "        \n",
    "        return seq, target\n",
    "   "
   ]
  },
  {
   "cell_type": "markdown",
   "metadata": {},
   "source": [
    "Now let's instantiate the `train` and `test` datasets:"
   ]
  },
  {
   "cell_type": "code",
   "execution_count": 6,
   "metadata": {},
   "outputs": [],
   "source": [
    "data_path = \"./data.csv\" # Path to the dataset\n",
    "train_set = coding_and_noncoding_dataset(data_path=data_path,\n",
    "                                         split='train',\n",
    "                                         tokenizer=tokenizer,\n",
    "                                         use_padding=True,\n",
    "                                         max_length=max_length)\n",
    "\n",
    "test_set = coding_and_noncoding_dataset(data_path=data_path,\n",
    "                                        split='test',\n",
    "                                        tokenizer=tokenizer,\n",
    "                                        use_padding=True,\n",
    "                                        max_length=max_length)"
   ]
  },
  {
   "cell_type": "code",
   "execution_count": 7,
   "metadata": {},
   "outputs": [],
   "source": [
    "train_loader = DataLoader(train_set, batch_size=8, shuffle=True)\n",
    "test_loader = DataLoader(test_set, batch_size=8, shuffle=False)"
   ]
  },
  {
   "cell_type": "code",
   "execution_count": 8,
   "metadata": {},
   "outputs": [
    {
     "name": "stdout",
     "output_type": "stream",
     "text": [
      "Batch number: 0\n",
      "Inputs: tensor([[ 8.,  8., 10.,  ...,  9.,  7.,  8.],\n",
      "        [ 4.,  4.,  4.,  ...,  7., 10.,  9.],\n",
      "        [ 8., 10., 10.,  ...,  7., 10.,  7.],\n",
      "        ...,\n",
      "        [ 4.,  4.,  4.,  ...,  9.,  9., 10.],\n",
      "        [ 4.,  4.,  4.,  ...,  8.,  7.,  7.],\n",
      "        [ 4.,  4.,  4.,  ...,  7.,  9.,  7.]])\n",
      "Labels: tensor([[0.],\n",
      "        [0.],\n",
      "        [1.],\n",
      "        [1.],\n",
      "        [0.],\n",
      "        [0.],\n",
      "        [0.],\n",
      "        [1.]])\n"
     ]
    }
   ],
   "source": [
    "for batch, (x, y) in enumerate(train_loader):\n",
    "    print(f\"Batch number: {batch}\\nInputs: {x}\\nLabels: {y}\")\n",
    "    break"
   ]
  },
  {
   "cell_type": "markdown",
   "metadata": {},
   "source": [
    "## Train the model\n",
    "All you have to do is repeat the process you did some minutes ago! As it is already specified in the `coding_and_noncoding_dataset`, the sequences are already tokenized, all you have to do is a little adjustment in the train and test loops and you're good to go!"
   ]
  },
  {
   "cell_type": "code",
   "execution_count": 9,
   "metadata": {},
   "outputs": [],
   "source": [
    "# Import the necessary libraries again as a new python class is defined\n",
    "import torch.nn as nn\n",
    "import torch.optim as optim\n",
    "import torch.nn.functional as F\n",
    "\n",
    "# Define model\n",
    "class NeuralNetwork(nn.Module):\n",
    "    def __init__(self, max_length, num_classes=2):\n",
    "        super().__init__()\n",
    "        self.flatten = nn.Flatten()\n",
    "        self.linear_relu_stack = nn.Sequential(\n",
    "            nn.Linear(max_length, 512),\n",
    "            nn.ReLU(),\n",
    "            nn.Linear(512, 512),\n",
    "            nn.ReLU(),\n",
    "            nn.Linear(512, 256),\n",
    "            nn.ReLU(),\n",
    "            nn.Linear(256, num_classes),\n",
    "        )\n",
    "\n",
    "    def forward(self, x):\n",
    "        x = self.flatten(x)\n",
    "        logits = self.linear_relu_stack(x)\n",
    "        return logits"
   ]
  },
  {
   "cell_type": "markdown",
   "metadata": {},
   "source": [
    "You are almost there to train your model! You're a few parameters and functions away of training the model. Let's finish the set up to start the training process!\n",
    "\n",
    "To start its training a deep learning model needs:\n",
    "* a `device`: the piece of hardware where all the math will happen. It's advised to use a GPU for accelerated training\n",
    "* `loss function`: this tells you how much difference is there between the model's predictions and the ground-truth labels in the dataset\n",
    "* a number of `epochs`: the amount of times the model will \"see\" the samples within the training dataset\n",
    "* an `optimizer`: a way of calculating and update the model's parameters to fit better the data after each iteration\n",
    "* a `training` and `test` loops: to declare how the information will pass through the network and in which moment to update the parameters\n",
    "\n",
    "Let's declare them in the following code cell:"
   ]
  },
  {
   "cell_type": "code",
   "execution_count": 12,
   "metadata": {},
   "outputs": [
    {
     "name": "stdout",
     "output_type": "stream",
     "text": [
      "Using device: mps\n",
      "NeuralNetwork(\n",
      "  (flatten): Flatten(start_dim=1, end_dim=-1)\n",
      "  (linear_relu_stack): Sequential(\n",
      "    (0): Linear(in_features=1024, out_features=512, bias=True)\n",
      "    (1): ReLU()\n",
      "    (2): Linear(in_features=512, out_features=512, bias=True)\n",
      "    (3): ReLU()\n",
      "    (4): Linear(in_features=512, out_features=256, bias=True)\n",
      "    (5): ReLU()\n",
      "    (6): Linear(in_features=256, out_features=2, bias=True)\n",
      "  )\n",
      ")\n"
     ]
    }
   ],
   "source": [
    "# Define a device\n",
    "device = torch.device(\"cuda\" if torch.cuda.is_available() else \"mps\" if torch.backends.mps.is_available() else \"cpu\")\n",
    "print(f\"Using device: {device}\")\n",
    "\n",
    "# Print model details\n",
    "model = NeuralNetwork(max_length).to(device)\n",
    "print(model)\n",
    "\n",
    "# Define the optimizer and the loss function\n",
    "criterion = nn.CrossEntropyLoss()\n",
    "\n",
    "# create optimizer and define its parameters\n",
    "learning_rate = 1e-5\n",
    "weight_decay = 0.1\n",
    "optimizer = optim.AdamW(model.parameters(), lr=learning_rate, weight_decay=weight_decay)\n"
   ]
  },
  {
   "cell_type": "code",
   "execution_count": 119,
   "metadata": {},
   "outputs": [],
   "source": [
    "# Define the training loop\n",
    "def train(model, device, train_loader, criterion, optimizer):\n",
    "    model.to(device)\n",
    "    model.train()\n",
    "    size = len(train_loader.dataset)\n",
    "    for batch, (x, y) in enumerate(train_loader):\n",
    "        x, y = x.to(device), y.to(device) # Move the data to the device\n",
    "        # Forward pass\n",
    "        outputs = model(x) # Get the outputs of the model\n",
    "        preds = F.softmax(outputs, dim=1)\n",
    "        # Backward pass\n",
    "        loss = criterion(outputs, y)\n",
    "        loss.backward()\n",
    "        optimizer.step()\n",
    "        # Zero the gradients\n",
    "        optimizer.zero_grad()\n",
    "        if batch % 1000 == 0:\n",
    "            loss, current = loss.item(), (batch + 1) * len(x)\n",
    "            print(f\"loss: {loss:>7f}  [{current:>5d}/{size:>5d}]\")"
   ]
  },
  {
   "cell_type": "code",
   "execution_count": 132,
   "metadata": {},
   "outputs": [],
   "source": [
    "# Define the test loop\n",
    "def test(model, device, test_loader, losses, accuracies):\n",
    "    model.to(device) # Move the model to the device\n",
    "    model.eval() # Set the model to evaluation mode\n",
    "    size = len(test_loader.dataset)\n",
    "    test_loss, correct = 0, 0\n",
    "    with torch.no_grad(): # Disable gradient calculation\n",
    "        for x, y in test_loader:\n",
    "            x, y = x.to(device), y.to(device) # Move the data to the device\n",
    "            outputs = model(x) # Get the outputs of the model\n",
    "            test_loss += criterion(outputs, y).item() # Get the loss value\n",
    "            correct += (outputs.logits.argmax(0) == y).type(torch.float).sum().item() # Get the number of correct predictions\n",
    "    test_loss /= size\n",
    "    losses.append(test_loss) # Save the loss value in the current epoch\n",
    "    correct /= size\n",
    "    accuracies.append(correct) # Save the accuracy value in the current epoch\n",
    "    print(f\"Test Error: \\n Accuracy: {(1000*correct):>0.1f}%, Avg loss: {test_loss:>8f} \\n\")"
   ]
  },
  {
   "cell_type": "markdown",
   "metadata": {},
   "source": [
    "Now you have all the parameters, objects, and functions needed to train a deep learning model! The last thing you have to do is to declare how many **epochs** the training phase will have. This is how many times will the model \"see\" or process all the samples contained in the training dataset. This is done to try to fit the model as most as possible to the data. That's why your dataset has to include a wide variety of examples, covering the most cases as possible from the phenomenon you're studying."
   ]
  },
  {
   "cell_type": "code",
   "execution_count": 121,
   "metadata": {},
   "outputs": [
    {
     "name": "stdout",
     "output_type": "stream",
     "text": [
      "Epoch 1\n",
      "-------------------------------\n"
     ]
    },
    {
     "ename": "RuntimeError",
     "evalue": "0D or 1D target tensor expected, multi-target not supported",
     "output_type": "error",
     "traceback": [
      "\u001b[0;31m---------------------------------------------------------------------------\u001b[0m",
      "\u001b[0;31mRuntimeError\u001b[0m                              Traceback (most recent call last)",
      "Cell \u001b[0;32mIn[121], line 10\u001b[0m\n\u001b[1;32m      8\u001b[0m \u001b[38;5;28;01mfor\u001b[39;00m epoch \u001b[38;5;129;01min\u001b[39;00m \u001b[38;5;28mrange\u001b[39m(epochs):\n\u001b[1;32m      9\u001b[0m     \u001b[38;5;28mprint\u001b[39m(\u001b[38;5;124mf\u001b[39m\u001b[38;5;124m\"\u001b[39m\u001b[38;5;124mEpoch \u001b[39m\u001b[38;5;132;01m{\u001b[39;00mepoch\u001b[38;5;250m \u001b[39m\u001b[38;5;241m+\u001b[39m\u001b[38;5;250m \u001b[39m\u001b[38;5;241m1\u001b[39m\u001b[38;5;132;01m}\u001b[39;00m\u001b[38;5;130;01m\\n\u001b[39;00m\u001b[38;5;124m-------------------------------\u001b[39m\u001b[38;5;124m\"\u001b[39m)\n\u001b[0;32m---> 10\u001b[0m     \u001b[43mtrain\u001b[49m\u001b[43m(\u001b[49m\u001b[43mmodel\u001b[49m\u001b[43m,\u001b[49m\u001b[43m \u001b[49m\u001b[43mdevice\u001b[49m\u001b[43m,\u001b[49m\u001b[43m \u001b[49m\u001b[43mtrain_loader\u001b[49m\u001b[43m,\u001b[49m\u001b[43m \u001b[49m\u001b[43mcriterion\u001b[49m\u001b[43m,\u001b[49m\u001b[43m \u001b[49m\u001b[43moptimizer\u001b[49m\u001b[43m)\u001b[49m\n\u001b[1;32m     11\u001b[0m     test(model, device, test_loader, max_length, losses, accuracies)\n",
      "Cell \u001b[0;32mIn[119], line 11\u001b[0m, in \u001b[0;36mtrain\u001b[0;34m(model, device, train_loader, criterion, optimizer)\u001b[0m\n\u001b[1;32m      9\u001b[0m outputs \u001b[38;5;241m=\u001b[39m model(x) \u001b[38;5;66;03m# Get the outputs of the model\u001b[39;00m\n\u001b[1;32m     10\u001b[0m \u001b[38;5;66;03m# Backward pass\u001b[39;00m\n\u001b[0;32m---> 11\u001b[0m loss \u001b[38;5;241m=\u001b[39m \u001b[43mcriterion\u001b[49m\u001b[43m(\u001b[49m\u001b[43moutputs\u001b[49m\u001b[43m,\u001b[49m\u001b[43m \u001b[49m\u001b[43my\u001b[49m\u001b[43m)\u001b[49m\n\u001b[1;32m     12\u001b[0m loss\u001b[38;5;241m.\u001b[39mbackward()\n\u001b[1;32m     13\u001b[0m optimizer\u001b[38;5;241m.\u001b[39mstep()\n",
      "File \u001b[0;32m~/miniconda3/envs/gsc_pt/lib/python3.12/site-packages/torch/nn/modules/module.py:1532\u001b[0m, in \u001b[0;36mModule._wrapped_call_impl\u001b[0;34m(self, *args, **kwargs)\u001b[0m\n\u001b[1;32m   1530\u001b[0m     \u001b[38;5;28;01mreturn\u001b[39;00m \u001b[38;5;28mself\u001b[39m\u001b[38;5;241m.\u001b[39m_compiled_call_impl(\u001b[38;5;241m*\u001b[39margs, \u001b[38;5;241m*\u001b[39m\u001b[38;5;241m*\u001b[39mkwargs)  \u001b[38;5;66;03m# type: ignore[misc]\u001b[39;00m\n\u001b[1;32m   1531\u001b[0m \u001b[38;5;28;01melse\u001b[39;00m:\n\u001b[0;32m-> 1532\u001b[0m     \u001b[38;5;28;01mreturn\u001b[39;00m \u001b[38;5;28;43mself\u001b[39;49m\u001b[38;5;241;43m.\u001b[39;49m\u001b[43m_call_impl\u001b[49m\u001b[43m(\u001b[49m\u001b[38;5;241;43m*\u001b[39;49m\u001b[43margs\u001b[49m\u001b[43m,\u001b[49m\u001b[43m \u001b[49m\u001b[38;5;241;43m*\u001b[39;49m\u001b[38;5;241;43m*\u001b[39;49m\u001b[43mkwargs\u001b[49m\u001b[43m)\u001b[49m\n",
      "File \u001b[0;32m~/miniconda3/envs/gsc_pt/lib/python3.12/site-packages/torch/nn/modules/module.py:1541\u001b[0m, in \u001b[0;36mModule._call_impl\u001b[0;34m(self, *args, **kwargs)\u001b[0m\n\u001b[1;32m   1536\u001b[0m \u001b[38;5;66;03m# If we don't have any hooks, we want to skip the rest of the logic in\u001b[39;00m\n\u001b[1;32m   1537\u001b[0m \u001b[38;5;66;03m# this function, and just call forward.\u001b[39;00m\n\u001b[1;32m   1538\u001b[0m \u001b[38;5;28;01mif\u001b[39;00m \u001b[38;5;129;01mnot\u001b[39;00m (\u001b[38;5;28mself\u001b[39m\u001b[38;5;241m.\u001b[39m_backward_hooks \u001b[38;5;129;01mor\u001b[39;00m \u001b[38;5;28mself\u001b[39m\u001b[38;5;241m.\u001b[39m_backward_pre_hooks \u001b[38;5;129;01mor\u001b[39;00m \u001b[38;5;28mself\u001b[39m\u001b[38;5;241m.\u001b[39m_forward_hooks \u001b[38;5;129;01mor\u001b[39;00m \u001b[38;5;28mself\u001b[39m\u001b[38;5;241m.\u001b[39m_forward_pre_hooks\n\u001b[1;32m   1539\u001b[0m         \u001b[38;5;129;01mor\u001b[39;00m _global_backward_pre_hooks \u001b[38;5;129;01mor\u001b[39;00m _global_backward_hooks\n\u001b[1;32m   1540\u001b[0m         \u001b[38;5;129;01mor\u001b[39;00m _global_forward_hooks \u001b[38;5;129;01mor\u001b[39;00m _global_forward_pre_hooks):\n\u001b[0;32m-> 1541\u001b[0m     \u001b[38;5;28;01mreturn\u001b[39;00m \u001b[43mforward_call\u001b[49m\u001b[43m(\u001b[49m\u001b[38;5;241;43m*\u001b[39;49m\u001b[43margs\u001b[49m\u001b[43m,\u001b[49m\u001b[43m \u001b[49m\u001b[38;5;241;43m*\u001b[39;49m\u001b[38;5;241;43m*\u001b[39;49m\u001b[43mkwargs\u001b[49m\u001b[43m)\u001b[49m\n\u001b[1;32m   1543\u001b[0m \u001b[38;5;28;01mtry\u001b[39;00m:\n\u001b[1;32m   1544\u001b[0m     result \u001b[38;5;241m=\u001b[39m \u001b[38;5;28;01mNone\u001b[39;00m\n",
      "File \u001b[0;32m~/miniconda3/envs/gsc_pt/lib/python3.12/site-packages/torch/nn/modules/loss.py:1185\u001b[0m, in \u001b[0;36mCrossEntropyLoss.forward\u001b[0;34m(self, input, target)\u001b[0m\n\u001b[1;32m   1184\u001b[0m \u001b[38;5;28;01mdef\u001b[39;00m \u001b[38;5;21mforward\u001b[39m(\u001b[38;5;28mself\u001b[39m, \u001b[38;5;28minput\u001b[39m: Tensor, target: Tensor) \u001b[38;5;241m-\u001b[39m\u001b[38;5;241m>\u001b[39m Tensor:\n\u001b[0;32m-> 1185\u001b[0m     \u001b[38;5;28;01mreturn\u001b[39;00m \u001b[43mF\u001b[49m\u001b[38;5;241;43m.\u001b[39;49m\u001b[43mcross_entropy\u001b[49m\u001b[43m(\u001b[49m\u001b[38;5;28;43minput\u001b[39;49m\u001b[43m,\u001b[49m\u001b[43m \u001b[49m\u001b[43mtarget\u001b[49m\u001b[43m,\u001b[49m\u001b[43m \u001b[49m\u001b[43mweight\u001b[49m\u001b[38;5;241;43m=\u001b[39;49m\u001b[38;5;28;43mself\u001b[39;49m\u001b[38;5;241;43m.\u001b[39;49m\u001b[43mweight\u001b[49m\u001b[43m,\u001b[49m\n\u001b[1;32m   1186\u001b[0m \u001b[43m                           \u001b[49m\u001b[43mignore_index\u001b[49m\u001b[38;5;241;43m=\u001b[39;49m\u001b[38;5;28;43mself\u001b[39;49m\u001b[38;5;241;43m.\u001b[39;49m\u001b[43mignore_index\u001b[49m\u001b[43m,\u001b[49m\u001b[43m \u001b[49m\u001b[43mreduction\u001b[49m\u001b[38;5;241;43m=\u001b[39;49m\u001b[38;5;28;43mself\u001b[39;49m\u001b[38;5;241;43m.\u001b[39;49m\u001b[43mreduction\u001b[49m\u001b[43m,\u001b[49m\n\u001b[1;32m   1187\u001b[0m \u001b[43m                           \u001b[49m\u001b[43mlabel_smoothing\u001b[49m\u001b[38;5;241;43m=\u001b[39;49m\u001b[38;5;28;43mself\u001b[39;49m\u001b[38;5;241;43m.\u001b[39;49m\u001b[43mlabel_smoothing\u001b[49m\u001b[43m)\u001b[49m\n",
      "File \u001b[0;32m~/miniconda3/envs/gsc_pt/lib/python3.12/site-packages/torch/nn/functional.py:3086\u001b[0m, in \u001b[0;36mcross_entropy\u001b[0;34m(input, target, weight, size_average, ignore_index, reduce, reduction, label_smoothing)\u001b[0m\n\u001b[1;32m   3084\u001b[0m \u001b[38;5;28;01mif\u001b[39;00m size_average \u001b[38;5;129;01mis\u001b[39;00m \u001b[38;5;129;01mnot\u001b[39;00m \u001b[38;5;28;01mNone\u001b[39;00m \u001b[38;5;129;01mor\u001b[39;00m reduce \u001b[38;5;129;01mis\u001b[39;00m \u001b[38;5;129;01mnot\u001b[39;00m \u001b[38;5;28;01mNone\u001b[39;00m:\n\u001b[1;32m   3085\u001b[0m     reduction \u001b[38;5;241m=\u001b[39m _Reduction\u001b[38;5;241m.\u001b[39mlegacy_get_string(size_average, reduce)\n\u001b[0;32m-> 3086\u001b[0m \u001b[38;5;28;01mreturn\u001b[39;00m \u001b[43mtorch\u001b[49m\u001b[38;5;241;43m.\u001b[39;49m\u001b[43m_C\u001b[49m\u001b[38;5;241;43m.\u001b[39;49m\u001b[43m_nn\u001b[49m\u001b[38;5;241;43m.\u001b[39;49m\u001b[43mcross_entropy_loss\u001b[49m\u001b[43m(\u001b[49m\u001b[38;5;28;43minput\u001b[39;49m\u001b[43m,\u001b[49m\u001b[43m \u001b[49m\u001b[43mtarget\u001b[49m\u001b[43m,\u001b[49m\u001b[43m \u001b[49m\u001b[43mweight\u001b[49m\u001b[43m,\u001b[49m\u001b[43m \u001b[49m\u001b[43m_Reduction\u001b[49m\u001b[38;5;241;43m.\u001b[39;49m\u001b[43mget_enum\u001b[49m\u001b[43m(\u001b[49m\u001b[43mreduction\u001b[49m\u001b[43m)\u001b[49m\u001b[43m,\u001b[49m\u001b[43m \u001b[49m\u001b[43mignore_index\u001b[49m\u001b[43m,\u001b[49m\u001b[43m \u001b[49m\u001b[43mlabel_smoothing\u001b[49m\u001b[43m)\u001b[49m\n",
      "\u001b[0;31mRuntimeError\u001b[0m: 0D or 1D target tensor expected, multi-target not supported"
     ]
    }
   ],
   "source": [
    "# Define the number of epochs\n",
    "epochs = 5\n",
    "\n",
    "# Define the lists to store the losses and accuracies\n",
    "losses = []\n",
    "accuracies = []\n",
    "\n",
    "for epoch in range(epochs):\n",
    "    print(f\"Epoch {epoch + 1}\\n-------------------------------\")\n",
    "    train(model, device, train_loader, criterion, optimizer)\n",
    "    test(model, device, test_loader, max_length, losses, accuracies)"
   ]
  },
  {
   "cell_type": "markdown",
   "metadata": {},
   "source": [
    "## Evaluation\n",
    "\n",
    "Excellent! You just finished training your model, now what? Is it ready to predict which sequence is an enhancer and which is not? As you may saw during the training process at the end of each epoch the accuracy and average loss values were displayed. These tell us how **reliable** our model is. You can plot these values and watch the model's evolution through the epochs because each time the `test` function was working it saved them.\n",
    "\n",
    "### Accuracy and Loss"
   ]
  },
  {
   "cell_type": "code",
   "execution_count": 34,
   "metadata": {},
   "outputs": [
    {
     "data": {
      "image/png": "[encoded data removed]",
      "text/plain": [
       "<Figure size 1800x600 with 2 Axes>"
      ]
     },
     "metadata": {},
     "output_type": "display_data"
    }
   ],
   "source": [
    "# Plot the loss and accuracy values agianst the number of epochs\n",
    "n_epochs = np.arange(1, epochs + 1) # Create an array with the number of epochs\n",
    "plt.figure(figsize=(18, 6))\n",
    "plt.subplot(1, 2, 1)\n",
    "plt.plot(n_epochs, losses)\n",
    "plt.xticks(n_epochs)\n",
    "plt.title(\"Loss vs. Number of epochs\")\n",
    "plt.xlabel(\"Number of epochs\")\n",
    "plt.ylabel(\"Loss\")\n",
    "plt.subplot(1, 2, 2)\n",
    "plt.plot(n_epochs, accuracies)\n",
    "plt.xticks(n_epochs)\n",
    "plt.title(\"Accuracy vs. Number of epochs\")\n",
    "plt.xlabel(\"Number of epochs\")\n",
    "plt.ylabel(\"Accuracy\")\n",
    "plt.show()"
   ]
  },
  {
   "cell_type": "markdown",
   "metadata": {},
   "source": [
    "As you may see in the plots, the **loss value** decreases as the number of epochs increases. The loss value is a metric that tells you how far from the actual values the model's predictions are. This value and they way it is calculated are directly related to the **loss function**, in this example you used the *Cross Entropy* loss function. \n",
    "\n",
    "On the other hand, the **accuracy** represents the quantity of correct predictions out of the total number of samples (in the test dataset). With this model, in the specific iteration when preparing this workshop, the maxmimum obtained value was 70.6%. This means that if you use this model for any medical or diagnostic application you would detect an enhancer correctly 70% percent of the time. Do you think this accuracy is enough?"
   ]
  },
  {
   "cell_type": "markdown",
   "metadata": {},
   "source": [
    "### Confusion matrix\n",
    "\n",
    "Another way of assessing how well your model works is with a **confusion matrix**. This is a metric that quantifies and shows the number of correct predictions against the incorrect ones. It compares the number of predicted values against the true ones, allowing to check how often the model misses to clasify correctly a sample.\n",
    "\n",
    "To calculate it you just need to generate predictions with your model and compare them against the labels contained in the dataset. In the next code cell it's showed how to do this."
   ]
  },
  {
   "cell_type": "code",
   "execution_count": 24,
   "metadata": {},
   "outputs": [],
   "source": [
    "# Do infenrece on the test set\n",
    "model.to(device) # Move the model to the device\n",
    "model.eval() # Set the model to evaluation mode\n",
    "size = len(test_loader.dataset) # Get the size of the test set\n",
    "test_loss, correct = 0, 0 \n",
    "y_pred = [] # Create a list to store the predictions\n",
    "with torch.no_grad(): # Disable gradient calculation\n",
    "    for x, y in test_loader:\n",
    "        x = tokenizer(x, return_tensors='pt', padding=True, truncation=True, max_length=max_length)[\"input_ids\"] # Tokenize the input sequences\n",
    "        x, y = x.to(device), y.to(device) # Move the data to the device\n",
    "        outputs = model(x, labels=y) # Get the outputs of the model\n",
    "        test_loss += outputs.loss.item() # Get the loss value\n",
    "        correct += (outputs.logits.argmax(1) == y).type(torch.float).sum().item() # Get the number of correct predictions\n",
    "        y_pred.extend(outputs.logits.argmax(1).cpu().numpy()) # Save the predictions in the y_pred list"
   ]
  },
  {
   "cell_type": "code",
   "execution_count": 46,
   "metadata": {},
   "outputs": [
    {
     "data": {
      "image/png": "[encoded data removed]",
      "text/plain": [
       "<Figure size 800x600 with 2 Axes>"
      ]
     },
     "metadata": {},
     "output_type": "display_data"
    }
   ],
   "source": [
    "# Calculate confusion matrix \n",
    "y_true = test_dataset.all_labels # Get the true labels\n",
    "confusion_matrix(y_true, y_pred) # Calculate the confusion matrix\n",
    "\n",
    "# Display the confusion matrix\n",
    "plt.figure(figsize=(8, 6)) \n",
    "sns.heatmap(confusion_matrix(y_true, y_pred), annot=True, fmt='d', cmap=sns.light_palette(\"seagreen\", as_cmap=True)) # Create a heatmap of the confusion matrix\n",
    "plt.xlabel('Predicted labels')\n",
    "plt.ylabel('True labels')\n",
    "plt.title('Confusion Matrix')\n",
    "plt.show()"
   ]
  },
  {
   "cell_type": "markdown",
   "metadata": {},
   "source": [
    "The confusion matrix might initially suggest that the classifier performed well, but this isn’t entirely accurate. Remember that the model’s maximum accuracy was only 70.6%. In a medical setting, this means that out of every 10 patients, 7 would be correctly diagnosed, while 3 would not. As the number of patients increases, the number of incorrect diagnoses will also rise. That's why it is important to use more than one evaluation metric to assess your model's performance!"
   ]
  },
  {
   "cell_type": "markdown",
   "metadata": {},
   "source": [
    "### Receiver-Operator Characteristic (ROC) curve\n",
    "The **ROC curve** plots the true positive rate (TPR) against the false positive rate (FPR). While it’s typically used for binary classification tasks, it can also be adapted for multi-class classification with some adjustments. An ideal ROC curve would rise sharply from the origin to the top-left corner and then extend horizontally to the top-right corner. The greater the area under the curve (AUC), the better the classifier’s performance, with a full AUC representing a perfect classifier.\n",
    "\n",
    "In the next code cell, it is shown how to generate a ROC curve using the same `y_true` and `y_pred` variables as in the confusion matrix."
   ]
  },
  {
   "cell_type": "code",
   "execution_count": 48,
   "metadata": {},
   "outputs": [
    {
     "data": {
      "image/png": "[encoded data removed]",
      "text/plain": [
       "<Figure size 800x600 with 1 Axes>"
      ]
     },
     "metadata": {},
     "output_type": "display_data"
    }
   ],
   "source": [
    "# Plot a ROC curve \n",
    "roc_auc = roc_auc_score(y_true, y_pred) # Calculate the ROC AUC score\n",
    "fpr, tpr, _ = roc_curve(y_true, y_pred) # Calculate the false positive rate and true positive rate\n",
    "plt.figure(figsize=(8, 6))\n",
    "plt.plot(fpr, tpr, color='darkorange', lw=2, label=f'ROC curve (area = {roc_auc:.2f})') # Plot the ROC curve\n",
    "plt.plot([0, 1], [0, 1], color='navy', lw=2, linestyle='--') \n",
    "plt.xlabel('False Positive Rate')\n",
    "plt.ylabel('True Positive Rate')\n",
    "plt.title('ROC Curve')\n",
    "plt.legend(loc=\"lower right\")\n",
    "plt.show()"
   ]
  },
  {
   "cell_type": "markdown",
   "metadata": {},
   "source": [
    "With the help of the ROC curve it is more clear that the classifier is not ideal for inference in a medical or biological contexts as it would misclassify new and unseen samples."
   ]
  },
  {
   "cell_type": "code",
   "execution_count": null,
   "metadata": {},
   "outputs": [],
   "source": []
  },
  {
   "cell_type": "code",
   "execution_count": null,
   "metadata": {},
   "outputs": [],
   "source": []
  },
  {
   "cell_type": "code",
   "execution_count": null,
   "metadata": {},
   "outputs": [],
   "source": []
  },
  {
   "cell_type": "code",
   "execution_count": null,
   "metadata": {},
   "outputs": [],
   "source": []
  },
  {
   "cell_type": "code",
   "execution_count": null,
   "metadata": {},
   "outputs": [],
   "source": []
  },
  {
   "cell_type": "code",
   "execution_count": null,
   "metadata": {},
   "outputs": [],
   "source": []
  },
  {
   "cell_type": "code",
   "execution_count": null,
   "metadata": {},
   "outputs": [],
   "source": []
  },
  {
   "cell_type": "code",
   "execution_count": null,
   "metadata": {},
   "outputs": [],
   "source": []
  },
  {
   "cell_type": "code",
   "execution_count": null,
   "metadata": {},
   "outputs": [],
   "source": []
  },
  {
   "cell_type": "code",
   "execution_count": null,
   "metadata": {},
   "outputs": [],
   "source": []
  },
  {
   "cell_type": "code",
   "execution_count": null,
   "metadata": {},
   "outputs": [],
   "source": []
  },
  {
   "cell_type": "code",
   "execution_count": null,
   "metadata": {},
   "outputs": [],
   "source": []
  },
  {
   "cell_type": "code",
   "execution_count": null,
   "metadata": {},
   "outputs": [],
   "source": []
  },
  {
   "cell_type": "markdown",
   "metadata": {},
   "source": [
    "# Train a model with your data!\n",
    "\n",
    "You have successfully trained a deep learning model using a dataset that contains genomic sequences that either are or are not **enhancers**. But what if you have data that are different? Can you still train the same model? How would you pre-process your data to make it compatible with these neural networks?\n",
    "\n",
    "To finish this workshop, you will download a new dataset in `csv` format containing coding and non-coding sequences (extracted from [7]), transform it into representable tensors, train the model again, and evaluate its performance."
   ]
  },
  {
   "cell_type": "markdown",
   "metadata": {},
   "source": [
    "## Prepare the data\n",
    "The data you're about to download is a `csv` file with genomic sequences representing coding **or** non-coding sequences. This data is located in a drive folder, you can download and give a check to the data with the following code cell."
   ]
  },
  {
   "cell_type": "code",
   "execution_count": 56,
   "metadata": {},
   "outputs": [
    {
     "name": "stderr",
     "output_type": "stream",
     "text": [
      "Downloading...\n",
      "From (original): https://drive.google.com/uc?id=1AzsSCpzxleJ6_FNXIRczgNtQkq51k2ZP\n",
      "From (redirected): https://drive.google.com/uc?id=1AzsSCpzxleJ6_FNXIRczgNtQkq51k2ZP&confirm=t&uuid=28326c9d-f7d4-4841-8166-4235be37d35c\n",
      "To: /Users/msr/Documents/workshops/deep_sequence_classification/data.csv\n",
      "100%|██████████| 477M/477M [02:21<00:00, 3.37MB/s] \n"
     ]
    },
    {
     "name": "stdout",
     "output_type": "stream",
     "text": [
      "                                           sequences  value\n",
      "0  GTACTTATTTCAACAGCACATATTTTAAATTGGATCAATACAGAGC...      0\n",
      "1  ATCACTTCTCGGCCTTTTGGCTAAGATCAACTGTAGTATCTGTTGT...      0\n",
      "2  GTGCCTGCTTTGGCGGCACATATCCTAAAATTGGAACAATACAGAG...      0\n",
      "3  ATCACTTCTCGGCCTTTTGGCTAAGATCAACTGTAGTATCTGTTGT...      0\n",
      "4  ATACTTACCTGGCAGGGCAGATACCATGATCTTAAAGGCAGTTTTC...      0\n"
     ]
    }
   ],
   "source": [
    "# Step 1: Get the URL of the CSV file\n",
    "file_id = \"1itLZCkFbeqlscbrrZdhX-9qA5j2Hc_W_\"\n",
    "url = f\"https://drive.google.com/uc?id={file_id}\"  # Replace with the actual URL of the CSV file\n",
    "\n",
    "# Step 2: Download the file using gdown\n",
    "output = 'data.csv'  # The name of the downloaded file\n",
    "gdown.download(url, output, quiet=False)\n",
    "\n",
    "# Step 3: Load the CSV file into a DataFrame\n",
    "df = pd.read_csv(output)\n",
    "\n",
    "# Display the first few rows of the DataFrame\n",
    "df.head()"
   ]
  },
  {
   "cell_type": "markdown",
   "metadata": {},
   "source": [
    "As you can see you have the raw sequences and their corresponding labels contained in the csv file. To make this data set compatible with PyTorch and HuggingFace models you need to turn it into a `Dataset` object. As you already have many variables containing the information about the model, the tokenizer, the loss function and many others, training again the model will be pretty straightforward.\n",
    "\n",
    "To create a `Dataset` object run the next code cell:"
   ]
  },
  {
   "cell_type": "code",
   "execution_count": 21,
   "metadata": {},
   "outputs": [],
   "source": [
    "# Class for ncRNA and cDNA Dataset object\n",
    "from sklearn.model_selection import train_test_split\n",
    "\n",
    "class coding_and_noncoding_dataset(Dataset):\n",
    "    '''\n",
    "    Class for the coding and noncoding dataset from Ensembl.\n",
    "    The dataset is a CSV file with two columns: \"sequences\" and \"value\". Being 0 for noncoding and 1 for coding.\n",
    "    You can split the dataset into train and test sets by setting split=True and defining the test_size.\n",
    "    For reproducibility, you can set the random_seed (defaulted to 42).\n",
    "    '''\n",
    "    def __init__(\n",
    "        self,\n",
    "        data_path,\n",
    "        max_length,\n",
    "        tokenizer = None,\n",
    "        split='train',\n",
    "        test_size=0.2,\n",
    "        random_seed=42,\n",
    "        use_padding=None,\n",
    "        add_eos=False,\n",
    "    ):\n",
    "        \n",
    "        self.data = pd.read_csv(data_path)\n",
    "        self.max_length = max_length\n",
    "        self.tokenizer = tokenizer\n",
    "        self.split = split\n",
    "        self.test_size = test_size\n",
    "        self.random_seed = random_seed\n",
    "        self.use_padding = use_padding\n",
    "        self.add_eos = add_eos\n",
    "\n",
    "        if self.split == 'train':\n",
    "            self.seq, _, self.label, _ = train_test_split(self.data['sequences'], self.data['value'],\n",
    "                                                          test_size=self.test_size, random_state=self.random_seed)\n",
    "        elif self.split == 'test':\n",
    "            _, self.seq, _, self.label = train_test_split(self.data['sequences'], self.data['value'],\n",
    "                                                          test_size=self.test_size, random_state=self.random_seed)\n",
    "\n",
    "    def __len__(self):\n",
    "        return len(self.seq)\n",
    "\n",
    "    def __getitem__(self, idx):\n",
    "        x = self.seq.iloc[idx]\n",
    "        y = self.label.iloc[idx]\n",
    "\n",
    "        seq = self.tokenizer(x,\n",
    "            add_special_tokens=False,\n",
    "            padding=\"max_length\" if self.use_padding else None,\n",
    "            max_length=self.max_length,\n",
    "            truncation=True,\n",
    "        )  # add cls and eos token (+2)\n",
    "        seq = seq[\"input_ids\"]  # get input_ids\n",
    "\n",
    "        # need to handle eos here\n",
    "        if self.add_eos:\n",
    "            # append list seems to be faster than append tensor\n",
    "            seq.append(self.tokenizer.sep_token_id)\n",
    "\n",
    "        # Convert into Long Tensors (y has to be wrapped in a list)\n",
    "        seq = torch.LongTensor(seq)\n",
    "        target = torch.LongTensor([y])\n",
    "        \n",
    "        return seq, target"
   ]
  },
  {
   "cell_type": "markdown",
   "metadata": {},
   "source": [
    "Now let's instantiate the train and test sets:"
   ]
  },
  {
   "cell_type": "code",
   "execution_count": 22,
   "metadata": {},
   "outputs": [
    {
     "ename": "AttributeError",
     "evalue": "property 'data' of 'coding_and_noncoding_dataset' object has no setter",
     "output_type": "error",
     "traceback": [
      "\u001b[0;31m---------------------------------------------------------------------------\u001b[0m",
      "\u001b[0;31mAttributeError\u001b[0m                            Traceback (most recent call last)",
      "Cell \u001b[0;32mIn[22], line 1\u001b[0m\n\u001b[0;32m----> 1\u001b[0m train_set \u001b[38;5;241m=\u001b[39m \u001b[43mcoding_and_noncoding_dataset\u001b[49m\u001b[43m(\u001b[49m\u001b[43mdata_path\u001b[49m\u001b[38;5;241;43m=\u001b[39;49m\u001b[38;5;124;43m\"\u001b[39;49m\u001b[38;5;124;43mdata.csv\u001b[39;49m\u001b[38;5;124;43m\"\u001b[39;49m\u001b[43m,\u001b[49m\n\u001b[1;32m      2\u001b[0m \u001b[43m                                         \u001b[49m\u001b[43msplit\u001b[49m\u001b[38;5;241;43m=\u001b[39;49m\u001b[38;5;124;43m'\u001b[39;49m\u001b[38;5;124;43mtrain\u001b[39;49m\u001b[38;5;124;43m'\u001b[39;49m\u001b[43m,\u001b[49m\n\u001b[1;32m      3\u001b[0m \u001b[43m                                         \u001b[49m\u001b[43mtokenizer\u001b[49m\u001b[38;5;241;43m=\u001b[39;49m\u001b[43mtokenizer\u001b[49m\u001b[43m,\u001b[49m\n\u001b[1;32m      4\u001b[0m \u001b[43m                                         \u001b[49m\u001b[43muse_padding\u001b[49m\u001b[38;5;241;43m=\u001b[39;49m\u001b[38;5;28;43;01mTrue\u001b[39;49;00m\u001b[43m,\u001b[49m\n\u001b[1;32m      5\u001b[0m \u001b[43m                                         \u001b[49m\u001b[43mmax_length\u001b[49m\u001b[38;5;241;43m=\u001b[39;49m\u001b[43mmax_length\u001b[49m\u001b[43m)\u001b[49m\n\u001b[1;32m      7\u001b[0m test_set \u001b[38;5;241m=\u001b[39m coding_and_noncoding_dataset(data_path\u001b[38;5;241m=\u001b[39m\u001b[38;5;124m\"\u001b[39m\u001b[38;5;124mdata.csv\u001b[39m\u001b[38;5;124m\"\u001b[39m,\n\u001b[1;32m      8\u001b[0m                                         split\u001b[38;5;241m=\u001b[39m\u001b[38;5;124m'\u001b[39m\u001b[38;5;124mtest\u001b[39m\u001b[38;5;124m'\u001b[39m,\n\u001b[1;32m      9\u001b[0m                                         tokenizer\u001b[38;5;241m=\u001b[39mtokenizer,\n\u001b[1;32m     10\u001b[0m                                         use_padding\u001b[38;5;241m=\u001b[39m\u001b[38;5;28;01mTrue\u001b[39;00m,\n\u001b[1;32m     11\u001b[0m                                         max_length\u001b[38;5;241m=\u001b[39mmax_length)\n",
      "Cell \u001b[0;32mIn[21], line 23\u001b[0m, in \u001b[0;36mcoding_and_noncoding_dataset.__init__\u001b[0;34m(self, data_path, max_length, tokenizer, split, test_size, random_seed, use_padding, add_eos)\u001b[0m\n\u001b[1;32m     11\u001b[0m \u001b[38;5;28;01mdef\u001b[39;00m \u001b[38;5;21m__init__\u001b[39m(\n\u001b[1;32m     12\u001b[0m     \u001b[38;5;28mself\u001b[39m,\n\u001b[1;32m     13\u001b[0m     data_path,\n\u001b[0;32m   (...)\u001b[0m\n\u001b[1;32m     20\u001b[0m     add_eos\u001b[38;5;241m=\u001b[39m\u001b[38;5;28;01mFalse\u001b[39;00m,\n\u001b[1;32m     21\u001b[0m ):\n\u001b[0;32m---> 23\u001b[0m     \u001b[38;5;28;43mself\u001b[39;49m\u001b[38;5;241;43m.\u001b[39;49m\u001b[43mdata\u001b[49m \u001b[38;5;241m=\u001b[39m pd\u001b[38;5;241m.\u001b[39mread_csv(data_path)\n\u001b[1;32m     24\u001b[0m     \u001b[38;5;28mself\u001b[39m\u001b[38;5;241m.\u001b[39mmax_length \u001b[38;5;241m=\u001b[39m max_length\n\u001b[1;32m     25\u001b[0m     \u001b[38;5;28mself\u001b[39m\u001b[38;5;241m.\u001b[39mtokenizer \u001b[38;5;241m=\u001b[39m tokenizer\n",
      "\u001b[0;31mAttributeError\u001b[0m: property 'data' of 'coding_and_noncoding_dataset' object has no setter"
     ]
    }
   ],
   "source": [
    "train_set = coding_and_noncoding_dataset(data_path=\"data.csv\",\n",
    "                                         split='train',\n",
    "                                         tokenizer=tokenizer,\n",
    "                                         use_padding=True,\n",
    "                                         max_length=max_length)\n",
    "\n",
    "test_set = coding_and_noncoding_dataset(data_path=\"data.csv\",\n",
    "                                        split='test',\n",
    "                                        tokenizer=tokenizer,\n",
    "                                        use_padding=True,\n",
    "                                        max_length=max_length)"
   ]
  },
  {
   "cell_type": "markdown",
   "metadata": {},
   "source": [
    "## Train the model\n",
    "All you have to do is repeat the process you did some minutes ago! As it is already specified in the `coding_and_noncoding_dataset`, the sequences are already tokenized, all you have to do is a little adjustment in the train and test loops and you're good to go!"
   ]
  },
  {
   "cell_type": "code",
   "execution_count": 66,
   "metadata": {},
   "outputs": [],
   "source": [
    "# Define the training loop\n",
    "def train(model, device, train_loader, max_length):\n",
    "    model.to(device)\n",
    "    model.train()\n",
    "    size = len(train_loader.dataset)\n",
    "    for batch, (x, y) in enumerate(train_loader):\n",
    "        x, y = x.to(device), y.to(device) # Move the data to the device\n",
    "        # Forward pass\n",
    "        outputs = model(x, labels=y) # Get the outputs of the model\n",
    "        # Backward pass\n",
    "        loss = outputs.loss\n",
    "        loss.backward()\n",
    "        optimizer.step()\n",
    "        # Zero the gradients\n",
    "        optimizer.zero_grad()\n",
    "        if batch % 100 == 0:\n",
    "            loss, current = loss.item(), (batch + 1) * len(x)\n",
    "            print(f\"loss: {loss:>7f}  [{current:>5d}/{size:>5d}]\")\n",
    "\n",
    "\n",
    "# Define the test loop\n",
    "def test(model, device, test_loader, max_length, losses, accuracies):\n",
    "    model.to(device) # Move the model to the device\n",
    "    model.eval() # Set the model to evaluation mode\n",
    "    size = len(test_loader.dataset)\n",
    "    test_loss, correct = 0, 0\n",
    "    with torch.no_grad(): # Disable gradient calculation\n",
    "        for x, y in test_loader:\n",
    "            x, y = x.to(device), y.to(device) # Move the data to the device\n",
    "            outputs = model(x, labels=y) # Get the outputs of the model\n",
    "            test_loss += outputs.loss.item() # Get the loss value\n",
    "            correct += (outputs.logits.argmax(1) == y).type(torch.float).sum().item() # Get the number of correct predictions\n",
    "    test_loss /= size\n",
    "    losses.append(test_loss) # Save the loss value in the current epoch\n",
    "    correct /= size\n",
    "    accuracies.append(correct) # Save the accuracy value in the current epoch\n",
    "    print(f\"Test Error: \\n Accuracy: {(100*correct):>0.1f}%, Avg loss: {test_loss:>8f} \\n\")"
   ]
  },
  {
   "cell_type": "code",
   "execution_count": 81,
   "metadata": {},
   "outputs": [],
   "source": [
    "# Redefine the data loaders \n",
    "train_loader = DataLoader(train_set, batch_size=32, shuffle=True)\n",
    "test_loader = DataLoader(test_set, batch_size=32, shuffle=False)"
   ]
  },
  {
   "cell_type": "code",
   "execution_count": null,
   "metadata": {},
   "outputs": [],
   "source": [
    "def train(dataloader, model, loss_fn, optimizer):\n",
    "    size = len(dataloader.dataset)\n",
    "    model.train()\n",
    "    for batch, (X, y) in enumerate(dataloader):\n",
    "        X, y = X.to(device), y.to(device)\n",
    "\n",
    "        # Compute prediction error\n",
    "        pred = model(X)\n",
    "        loss = loss_fn(pred, y)\n",
    "\n",
    "        # Backpropagation\n",
    "        loss.backward()\n",
    "        optimizer.step()\n",
    "        optimizer.zero_grad()\n",
    "\n",
    "        if batch % 100 == 0:\n",
    "            loss, current = loss.item(), (batch + 1) * len(X)\n",
    "            print(f\"loss: {loss:>7f}  [{current:>5d}/{size:>5d}]\")\n",
    "\n",
    "\n",
    "def test(dataloader, model, loss_fn):\n",
    "    size = len(dataloader.dataset)\n",
    "    num_batches = len(dataloader)\n",
    "    model.eval()\n",
    "    test_loss, correct = 0, 0\n",
    "    with torch.no_grad():\n",
    "        for X, y in dataloader:\n",
    "            X, y = X.to(device), y.to(device)\n",
    "            pred = model(X)\n",
    "            test_loss += loss_fn(pred, y).item()\n",
    "            correct += (pred.argmax(1) == y).type(torch.float).sum().item()\n",
    "    test_loss /= num_batches\n",
    "    correct /= size\n",
    "    print(f\"Test Error: \\n Accuracy: {(100*correct):>0.1f}%, Avg loss: {test_loss:>8f} \\n\")"
   ]
  },
  {
   "cell_type": "code",
   "execution_count": 82,
   "metadata": {},
   "outputs": [
    {
     "name": "stdout",
     "output_type": "stream",
     "text": [
      "Epoch 1\n",
      "-------------------------------\n",
      "loss: 0.876782  [   32/24000]\n",
      "loss: 0.636981  [ 3232/24000]\n",
      "loss: 0.494365  [ 6432/24000]\n",
      "loss: 0.684757  [ 9632/24000]\n",
      "loss: 0.661679  [12832/24000]\n",
      "loss: 0.524564  [16032/24000]\n",
      "loss: 0.561022  [19232/24000]\n",
      "loss: 0.639533  [22432/24000]\n",
      "Test Error: \n",
      " Accuracy: 1620.4%, Avg loss: 0.017357 \n",
      "\n",
      "Epoch 2\n",
      "-------------------------------\n",
      "loss: 0.417926  [   32/24000]\n",
      "loss: 0.551330  [ 3232/24000]\n",
      "loss: 0.631925  [ 6432/24000]\n",
      "loss: 0.512798  [ 9632/24000]\n",
      "loss: 0.541104  [12832/24000]\n",
      "loss: 0.517274  [16032/24000]\n",
      "loss: 0.583631  [19232/24000]\n",
      "loss: 0.541040  [22432/24000]\n",
      "Test Error: \n",
      " Accuracy: 1622.9%, Avg loss: 0.016723 \n",
      "\n",
      "Epoch 3\n",
      "-------------------------------\n",
      "loss: 0.475853  [   32/24000]\n",
      "loss: 0.537079  [ 3232/24000]\n",
      "loss: 0.412526  [ 6432/24000]\n",
      "loss: 0.543385  [ 9632/24000]\n",
      "loss: 0.545025  [12832/24000]\n",
      "loss: 0.546756  [16032/24000]\n",
      "loss: 0.480246  [19232/24000]\n",
      "loss: 0.359384  [22432/24000]\n",
      "Test Error: \n",
      " Accuracy: 1620.2%, Avg loss: 0.016138 \n",
      "\n"
     ]
    }
   ],
   "source": [
    "# Define the number of epochs\n",
    "epochs = 3\n",
    "\n",
    "# Define the lists to store the losses and accuracies\n",
    "losses = []\n",
    "accuracies = []\n",
    "\n",
    "for epoch in range(epochs):\n",
    "    print(f\"Epoch {epoch + 1}\\n-------------------------------\")\n",
    "    train(model, device, train_loader, max_length)\n",
    "    test(model, device, test_loader, max_length, losses, accuracies)"
   ]
  },
  {
   "cell_type": "markdown",
   "metadata": {},
   "source": [
    "To evaluate the performance of the model, you can repeat the steps that were introduced in the *Evaluation* section."
   ]
  },
  {
   "cell_type": "markdown",
   "metadata": {},
   "source": [
    "# References\n",
    "\n",
    "1. Zhang, A., Lipton, Z. C., Li, M., & Smola, A. J. (2021). Dive into deep learning. arXiv preprint arXiv:2106.11342.\n",
    "2. [Genomic Benchmarks paper and repository](https://doi.org/10.1186/s12863-023-01123-8)\n",
    "3. Wolf, T., Debut, L., Sanh, V., Chaumond, J., Delangue, C., Moi, A., ... & Rush, A. M. (2020, October). Transformers: State-of-the-art natural language processing. In Proceedings of the 2020 conference on empirical methods in natural language processing: system demonstrations (pp. 38-45).\n",
    "4. Nguyen, E., Poli, M., Faizi, M., Thomas, A., Wornow, M., Birch-Sykes, C., ... & Baccus, S. (2024). Hyenadna: Long-range genomic sequence modeling at single nucleotide resolution. Advances in neural information processing systems, 36.\n",
    "5. [Scikit learn \"Multiclass Receiver Operating Characteristic (ROC)\"](https://scikit-learn.org/stable/auto_examples/model_selection/plot_roc.html#sphx-glr-auto-examples-model-selection-plot-roc-py)\n",
    "6. Erickson, B. J., & Kitamura, F. (2021). Magician’s corner: 9. Performance metrics for machine learning models. Radiology: Artificial Intelligence, 3(3), e200126. https://doi.org/10.1148/ryai.2021200126\n",
    "7. Harrison, P. W., Amode, M. R., Austine-Orimoloye, O., Azov, A. G., Barba, M., Barnes, I., Becker, A., Bennett, R., Berry, A., Bhai, J., Bhurji, S. K., Boddu, S., Branco Lins, P. R., Brooks, L., Ramaraju, S. B., Campbell, L. I., Martinez, M. C., Charkhchi, M., Chougule, K., … Yates, A. D. (2024). Ensembl 2024. Nucleic Acids Research, 52(D1), D891–D899. https://doi.org/10.1093/nar/gkad1049\n"
   ]
  }
 ],
 "metadata": {
  "kernelspec": {
   "display_name": "gsc_pt",
   "language": "python",
   "name": "python3"
  },
  "language_info": {
   "codemirror_mode": {
    "name": "ipython",
    "version": 3
   },
   "file_extension": ".py",
   "mimetype": "text/x-python",
   "name": "python",
   "nbconvert_exporter": "python",
   "pygments_lexer": "ipython3",
   "version": "3.12.4"
  }
 },
 "nbformat": 4,
 "nbformat_minor": 2
}
